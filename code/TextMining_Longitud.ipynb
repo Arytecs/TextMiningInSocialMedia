{
 "cells": [
  {
   "cell_type": "markdown",
   "metadata": {},
   "source": [
    "## Text Mining in Social Media - Medida de la longitud de los tuits\n",
    "\n",
    "*En este notebook se detalla paso a paso todo el proceso de extracción de tuits de usuarios, su inserción en un DataFrame y el entrenamiento, etiquetado y evaluación de un modelo capaz de predecir el sexo y la variedad de español de un usuario dados 100 de sus tuits.*"
   ]
  },
  {
   "cell_type": "markdown",
   "metadata": {},
   "source": [
    "**1- Generamos dos diccionarios llamados ids_train e ids_test que contienen los ids de usuarios clasificados por variedad y sexo. Usamos para ello la función generar_dicc_ids**"
   ]
  },
  {
   "cell_type": "markdown",
   "metadata": {},
   "source": [
    "Para ello abrimos el fichero truth.txt, que contiene estos campos en forma de csv separados por los caracteres ':::'."
   ]
  },
  {
   "cell_type": "code",
   "execution_count": 2,
   "metadata": {},
   "outputs": [
    {
     "name": "stdout",
     "output_type": "stream",
     "text": [
      "{'male': 1400, 'female': 1400}\n",
      "{'colombia': 400, 'argentina': 400, 'spain': 400, 'venezuela': 400, 'peru': 400, 'chile': 400, 'mexico': 400}\n",
      "2800\n",
      "{'male': 700, 'female': 700}\n",
      "{'colombia': 200, 'argentina': 200, 'spain': 200, 'venezuela': 200, 'peru': 200, 'chile': 200, 'mexico': 200}\n",
      "1400\n"
     ]
    }
   ],
   "source": [
    "def generar_dicc_ids(particion):\n",
    "    # particion: 'train' o 'test'\n",
    "    if particion=='train':\n",
    "        f = open('./training/truth.txt')\n",
    "    else:\n",
    "        f = open('./test/truth.txt')\n",
    "    \n",
    "    contador=0\n",
    "    sexo={'male':0,'female':0}\n",
    "    variedades={'colombia':0,'argentina':0,'spain':0,'venezuela':0,'peru':0,'chile':0,'mexico':0}\n",
    "\n",
    "    ids={'colombia':{'male':[],'female':[]},'argentina':{'male':[],'female':[]},'spain':{'male':[],'female':[]}, \\\n",
    "     'venezuela':{'male':[],'female':[]},'peru':{'male':[],'female':[]},'chile':{'male':[],'female':[]}, \\\n",
    "     'mexico':{'male':[],'female':[]}}\n",
    "\n",
    "    for line in f:\n",
    "        line=line.rstrip()\n",
    "        if len(line)==0:\n",
    "            continue\n",
    "        lista=line.split(':::')\n",
    "\n",
    "        ids[lista[2]][lista[1]].append(lista[0])\n",
    "\n",
    "        sexo[lista[1]] += 1\n",
    "        variedades[lista[2]] += 1\n",
    "        contador+=1\n",
    "\n",
    "    print(sexo)\n",
    "    print(variedades)\n",
    "    print(contador)\n",
    "\n",
    "    return ids\n",
    "\n",
    "ids_train = generar_dicc_ids('train')\n",
    "ids_test  = generar_dicc_ids('test')"
   ]
  },
  {
   "cell_type": "markdown",
   "metadata": {},
   "source": [
    "**Ejemplo de los diccionarios generados**"
   ]
  },
  {
   "cell_type": "code",
   "execution_count": 3,
   "metadata": {},
   "outputs": [
    {
     "data": {
      "text/plain": [
       "['ef3588c9462713023145ae3c12c85614',\n",
       " '17e06a4ef15eaa851242465edc5328bd',\n",
       " 'cfa38327f7699d48daaaaf4278a1354a',\n",
       " 'e85fd98dfc6743bce7b274fbcac69f24',\n",
       " '826e3b4e72bfb6f9cdfc1a6995be10e5',\n",
       " 'bf149d41c5e685054a57fb38d964735d',\n",
       " '79e9e99239fe662190978d62ebc4c24d',\n",
       " '2d56280a969d9dbcc4b32b21bc0a9b02',\n",
       " 'b56c7a73e3bb2eb5436a3642b1fb70ee',\n",
       " '17786b7a4a1a31775af8ae786b4e4711']"
      ]
     },
     "execution_count": 3,
     "metadata": {},
     "output_type": "execute_result"
    }
   ],
   "source": [
    "ids_train['spain']['male'][0:10]"
   ]
  },
  {
   "cell_type": "markdown",
   "metadata": {},
   "source": [
    "**2- Definimos la función leer_tuits_longitud:**\n",
    "\n",
    "**leer_tuits_longitud:** recibe el id del usuario y a qué partición pertenece ('train' o 'test'). Devuelve una lista con la longitud de los 100 tuits del usuario.\n"
   ]
  },
  {
   "cell_type": "code",
   "execution_count": 4,
   "metadata": {
    "collapsed": true
   },
   "outputs": [],
   "source": [
    "def leer_tuits_longitud(id,particion):\n",
    "    if particion == 'train':\n",
    "        s='./training/' + id + '.xml'\n",
    "    else:\n",
    "        s='./test/' + id + '.xml'\n",
    "    f=open(s)\n",
    "    longitudes=list()\n",
    "    for line in f:\n",
    "        line=line.rstrip()\n",
    "        if line.find('<document><![CDATA[') != -1:\n",
    "            line=line[21:-14]\n",
    "            longitudes.append(len(line))\n",
    "    return longitudes\n"
   ]
  },
  {
   "cell_type": "markdown",
   "metadata": {},
   "source": [
    "**3- Definimos la función generar_dataframe que devuelve un DataFrame de pandas con las columnas tuits, sexo y variedad. En cada fila de la columna tuits, se encuentran todos los tuits de un usuario concatenados en un único string.**"
   ]
  },
  {
   "cell_type": "code",
   "execution_count": 5,
   "metadata": {
    "collapsed": true
   },
   "outputs": [],
   "source": [
    "import pandas as pd\n",
    "\n",
    "def generar_dataframe(ids,particion):\n",
    "    # ids: ids_train o ids_test\n",
    "    \n",
    "    df = pd.DataFrame(columns = ['tuits','sexo','variedad'])\n",
    "\n",
    "    i=0 # Contador del número de filas. Cada fila será un usuario.\n",
    "    variedades_lista = ['argentina', 'chile', 'colombia', 'mexico', 'peru', 'spain', 'venezuela']\n",
    "    sexo_lista = ['female','male']\n",
    "\n",
    "    for variedad in variedades_lista:\n",
    "        v=0 # contador del número de usuarios de una variedad\n",
    "        print(variedad)\n",
    "        \n",
    "        for sexo in sexo_lista:\n",
    "            s=0 # contador del número de usuarios de un sexo\n",
    "            \n",
    "            for id in ids[variedad][sexo]:\n",
    "                t = leer_tuits_longitud(id,particion)\n",
    "                df.loc[i] = [t,sexo,variedad]\n",
    "                i+=1\n",
    "                v+=1\n",
    "                s+=1\n",
    "            \n",
    "            print(\"\\t\",sexo,s)\n",
    "        \n",
    "        print(v)\n",
    "    \n",
    "    return df\n"
   ]
  },
  {
   "cell_type": "markdown",
   "metadata": {},
   "source": [
    "Generamos los DataFrames train y test."
   ]
  },
  {
   "cell_type": "code",
   "execution_count": 6,
   "metadata": {},
   "outputs": [
    {
     "name": "stdout",
     "output_type": "stream",
     "text": [
      "argentina\n",
      "\t female 200\n",
      "\t male 200\n",
      "400\n",
      "chile\n",
      "\t female 200\n",
      "\t male 200\n",
      "400\n",
      "colombia\n",
      "\t female 200\n",
      "\t male 200\n",
      "400\n",
      "mexico\n",
      "\t female 200\n",
      "\t male 200\n",
      "400\n",
      "peru\n",
      "\t female 200\n",
      "\t male 200\n",
      "400\n",
      "spain\n",
      "\t female 200\n",
      "\t male 200\n",
      "400\n",
      "venezuela\n",
      "\t female 200\n",
      "\t male 200\n",
      "400\n"
     ]
    }
   ],
   "source": [
    "train = generar_dataframe(ids_train, 'train')"
   ]
  },
  {
   "cell_type": "code",
   "execution_count": 7,
   "metadata": {},
   "outputs": [
    {
     "name": "stdout",
     "output_type": "stream",
     "text": [
      "argentina\n",
      "\t female 100\n",
      "\t male 100\n",
      "200\n",
      "chile\n",
      "\t female 100\n",
      "\t male 100\n",
      "200\n",
      "colombia\n",
      "\t female 100\n",
      "\t male 100\n",
      "200\n",
      "mexico\n",
      "\t female 100\n",
      "\t male 100\n",
      "200\n",
      "peru\n",
      "\t female 100\n",
      "\t male 100\n",
      "200\n",
      "spain\n",
      "\t female 100\n",
      "\t male 100\n",
      "200\n",
      "venezuela\n",
      "\t female 100\n",
      "\t male 100\n",
      "200\n"
     ]
    }
   ],
   "source": [
    "test  = generar_dataframe(ids_test, 'test')"
   ]
  },
  {
   "cell_type": "markdown",
   "metadata": {},
   "source": [
    "Ejemplo del DataFrame train"
   ]
  },
  {
   "cell_type": "code",
   "execution_count": 8,
   "metadata": {},
   "outputs": [
    {
     "data": {
      "text/html": [
       "<div>\n",
       "<style scoped>\n",
       "    .dataframe tbody tr th:only-of-type {\n",
       "        vertical-align: middle;\n",
       "    }\n",
       "\n",
       "    .dataframe tbody tr th {\n",
       "        vertical-align: top;\n",
       "    }\n",
       "\n",
       "    .dataframe thead th {\n",
       "        text-align: right;\n",
       "    }\n",
       "</style>\n",
       "<table border=\"1\" class=\"dataframe\">\n",
       "  <thead>\n",
       "    <tr style=\"text-align: right;\">\n",
       "      <th></th>\n",
       "      <th>tuits</th>\n",
       "      <th>sexo</th>\n",
       "      <th>variedad</th>\n",
       "    </tr>\n",
       "  </thead>\n",
       "  <tbody>\n",
       "    <tr>\n",
       "      <th>1507</th>\n",
       "      <td>[140, 140, 134, 94, 139, 116, 140, 140, 140, 6...</td>\n",
       "      <td>male</td>\n",
       "      <td>mexico</td>\n",
       "    </tr>\n",
       "    <tr>\n",
       "      <th>191</th>\n",
       "      <td>[47, 35, 127, 64, 43, 31, 47, 96, 66, 86, 39, ...</td>\n",
       "      <td>female</td>\n",
       "      <td>argentina</td>\n",
       "    </tr>\n",
       "    <tr>\n",
       "      <th>286</th>\n",
       "      <td>[29, 40, 129, 55, 37, 126, 76, 69, 25, 39, 92,...</td>\n",
       "      <td>male</td>\n",
       "      <td>argentina</td>\n",
       "    </tr>\n",
       "    <tr>\n",
       "      <th>767</th>\n",
       "      <td>[123, 43, 38, 22, 70, 51, 139, 77, 60, 51, 70,...</td>\n",
       "      <td>male</td>\n",
       "      <td>chile</td>\n",
       "    </tr>\n",
       "    <tr>\n",
       "      <th>1183</th>\n",
       "      <td>[77, 137, 41, 33, 31, 36, 134, 56, 30, 55, 30,...</td>\n",
       "      <td>male</td>\n",
       "      <td>colombia</td>\n",
       "    </tr>\n",
       "    <tr>\n",
       "      <th>1590</th>\n",
       "      <td>[130, 136, 97, 89, 42, 111, 41, 56, 33, 140, 1...</td>\n",
       "      <td>male</td>\n",
       "      <td>mexico</td>\n",
       "    </tr>\n",
       "    <tr>\n",
       "      <th>1345</th>\n",
       "      <td>[65, 63, 107, 90, 139, 53, 107, 62, 67, 61, 12...</td>\n",
       "      <td>female</td>\n",
       "      <td>mexico</td>\n",
       "    </tr>\n",
       "    <tr>\n",
       "      <th>1131</th>\n",
       "      <td>[42, 59, 127, 138, 68, 131, 79, 38, 74, 16, 10...</td>\n",
       "      <td>male</td>\n",
       "      <td>colombia</td>\n",
       "    </tr>\n",
       "    <tr>\n",
       "      <th>294</th>\n",
       "      <td>[137, 114, 77, 124, 104, 126, 92, 122, 131, 11...</td>\n",
       "      <td>male</td>\n",
       "      <td>argentina</td>\n",
       "    </tr>\n",
       "    <tr>\n",
       "      <th>1746</th>\n",
       "      <td>[55, 68, 89, 133, 92, 119, 140, 89, 137, 112, ...</td>\n",
       "      <td>female</td>\n",
       "      <td>peru</td>\n",
       "    </tr>\n",
       "  </tbody>\n",
       "</table>\n",
       "</div>"
      ],
      "text/plain": [
       "                                                  tuits    sexo   variedad\n",
       "1507  [140, 140, 134, 94, 139, 116, 140, 140, 140, 6...    male     mexico\n",
       "191   [47, 35, 127, 64, 43, 31, 47, 96, 66, 86, 39, ...  female  argentina\n",
       "286   [29, 40, 129, 55, 37, 126, 76, 69, 25, 39, 92,...    male  argentina\n",
       "767   [123, 43, 38, 22, 70, 51, 139, 77, 60, 51, 70,...    male      chile\n",
       "1183  [77, 137, 41, 33, 31, 36, 134, 56, 30, 55, 30,...    male   colombia\n",
       "1590  [130, 136, 97, 89, 42, 111, 41, 56, 33, 140, 1...    male     mexico\n",
       "1345  [65, 63, 107, 90, 139, 53, 107, 62, 67, 61, 12...  female     mexico\n",
       "1131  [42, 59, 127, 138, 68, 131, 79, 38, 74, 16, 10...    male   colombia\n",
       "294   [137, 114, 77, 124, 104, 126, 92, 122, 131, 11...    male  argentina\n",
       "1746  [55, 68, 89, 133, 92, 119, 140, 89, 137, 112, ...  female       peru"
      ]
     },
     "execution_count": 8,
     "metadata": {},
     "output_type": "execute_result"
    }
   ],
   "source": [
    "train.sample(n=10)"
   ]
  },
  {
   "cell_type": "markdown",
   "metadata": {},
   "source": [
    "**4- Añadimos cuatro nuevas columnas al Data Frame: mean, median, std y skewness que son la media, mediana, desviación estándar y simetría de las longitudes de los tuits de cada usuario.**"
   ]
  },
  {
   "cell_type": "code",
   "execution_count": 9,
   "metadata": {
    "collapsed": true
   },
   "outputs": [],
   "source": [
    "import statistics as stats\n",
    "from scipy import stats as sc\n",
    "\n",
    "for i in range(2800):\n",
    "    train.loc[i, 'mean']     = stats.mean   (train.loc[i]['tuits'])\n",
    "    train.loc[i, 'median']   = stats.median (train.loc[i]['tuits'])\n",
    "    train.loc[i, 'std']      = stats.stdev  (train.loc[i]['tuits'])\n",
    "    train.loc[i, 'skewness'] = sc.skew      (train.loc[i]['tuits'])\n",
    "    \n",
    "for i in range(1400):\n",
    "    test.loc[i, 'mean']     = stats.mean   (test.loc[i]['tuits'])\n",
    "    test.loc[i, 'median']   = stats.median (test.loc[i]['tuits'])\n",
    "    test.loc[i, 'std']      = stats.stdev  (test.loc[i]['tuits'])\n",
    "    test.loc[i, 'skewness'] = sc.skew      (test.loc[i]['tuits'])"
   ]
  },
  {
   "cell_type": "markdown",
   "metadata": {},
   "source": [
    "Ejemplo del DataFrame con las nuevas columnas"
   ]
  },
  {
   "cell_type": "code",
   "execution_count": 10,
   "metadata": {},
   "outputs": [
    {
     "data": {
      "text/html": [
       "<div>\n",
       "<style scoped>\n",
       "    .dataframe tbody tr th:only-of-type {\n",
       "        vertical-align: middle;\n",
       "    }\n",
       "\n",
       "    .dataframe tbody tr th {\n",
       "        vertical-align: top;\n",
       "    }\n",
       "\n",
       "    .dataframe thead th {\n",
       "        text-align: right;\n",
       "    }\n",
       "</style>\n",
       "<table border=\"1\" class=\"dataframe\">\n",
       "  <thead>\n",
       "    <tr style=\"text-align: right;\">\n",
       "      <th></th>\n",
       "      <th>tuits</th>\n",
       "      <th>sexo</th>\n",
       "      <th>variedad</th>\n",
       "      <th>mean</th>\n",
       "      <th>median</th>\n",
       "      <th>std</th>\n",
       "      <th>skewness</th>\n",
       "    </tr>\n",
       "  </thead>\n",
       "  <tbody>\n",
       "    <tr>\n",
       "      <th>0</th>\n",
       "      <td>[91, 32, 87, 94, 47, 56, 68, 76, 127, 40, 82, ...</td>\n",
       "      <td>female</td>\n",
       "      <td>argentina</td>\n",
       "      <td>85.16</td>\n",
       "      <td>87.5</td>\n",
       "      <td>32.143843</td>\n",
       "      <td>0.106207</td>\n",
       "    </tr>\n",
       "    <tr>\n",
       "      <th>1</th>\n",
       "      <td>[62, 40, 39, 66, 55, 41, 72, 59, 76, 103, 76, ...</td>\n",
       "      <td>female</td>\n",
       "      <td>argentina</td>\n",
       "      <td>63.47</td>\n",
       "      <td>55.5</td>\n",
       "      <td>23.780331</td>\n",
       "      <td>0.709803</td>\n",
       "    </tr>\n",
       "    <tr>\n",
       "      <th>2</th>\n",
       "      <td>[55, 61, 22, 28, 28, 71, 25, 24, 32, 70, 33, 6...</td>\n",
       "      <td>female</td>\n",
       "      <td>argentina</td>\n",
       "      <td>38.10</td>\n",
       "      <td>32.0</td>\n",
       "      <td>23.456601</td>\n",
       "      <td>1.556400</td>\n",
       "    </tr>\n",
       "    <tr>\n",
       "      <th>3</th>\n",
       "      <td>[58, 79, 75, 45, 18, 139, 54, 46, 73, 68, 90, ...</td>\n",
       "      <td>female</td>\n",
       "      <td>argentina</td>\n",
       "      <td>60.56</td>\n",
       "      <td>56.0</td>\n",
       "      <td>29.102161</td>\n",
       "      <td>0.717457</td>\n",
       "    </tr>\n",
       "    <tr>\n",
       "      <th>4</th>\n",
       "      <td>[39, 25, 78, 36, 54, 123, 114, 70, 85, 55, 89,...</td>\n",
       "      <td>female</td>\n",
       "      <td>argentina</td>\n",
       "      <td>74.02</td>\n",
       "      <td>68.0</td>\n",
       "      <td>35.923876</td>\n",
       "      <td>0.385561</td>\n",
       "    </tr>\n",
       "    <tr>\n",
       "      <th>5</th>\n",
       "      <td>[119, 66, 129, 133, 77, 84, 107, 52, 75, 83, 1...</td>\n",
       "      <td>female</td>\n",
       "      <td>argentina</td>\n",
       "      <td>76.75</td>\n",
       "      <td>72.5</td>\n",
       "      <td>37.675482</td>\n",
       "      <td>0.221802</td>\n",
       "    </tr>\n",
       "    <tr>\n",
       "      <th>6</th>\n",
       "      <td>[67, 126, 55, 43, 46, 54, 33, 24, 60, 63, 31, ...</td>\n",
       "      <td>female</td>\n",
       "      <td>argentina</td>\n",
       "      <td>60.24</td>\n",
       "      <td>57.0</td>\n",
       "      <td>29.608257</td>\n",
       "      <td>0.842735</td>\n",
       "    </tr>\n",
       "    <tr>\n",
       "      <th>7</th>\n",
       "      <td>[138, 101, 45, 62, 74, 84, 133, 110, 134, 140,...</td>\n",
       "      <td>female</td>\n",
       "      <td>argentina</td>\n",
       "      <td>73.99</td>\n",
       "      <td>73.0</td>\n",
       "      <td>50.456201</td>\n",
       "      <td>-0.037711</td>\n",
       "    </tr>\n",
       "    <tr>\n",
       "      <th>8</th>\n",
       "      <td>[137, 67, 68, 76, 91, 107, 92, 35, 69, 133, 4,...</td>\n",
       "      <td>female</td>\n",
       "      <td>argentina</td>\n",
       "      <td>75.97</td>\n",
       "      <td>69.0</td>\n",
       "      <td>36.419957</td>\n",
       "      <td>0.283163</td>\n",
       "    </tr>\n",
       "    <tr>\n",
       "      <th>9</th>\n",
       "      <td>[131, 82, 62, 19, 52, 99, 27, 105, 61, 73, 80,...</td>\n",
       "      <td>female</td>\n",
       "      <td>argentina</td>\n",
       "      <td>84.67</td>\n",
       "      <td>81.0</td>\n",
       "      <td>34.431620</td>\n",
       "      <td>0.111638</td>\n",
       "    </tr>\n",
       "    <tr>\n",
       "      <th>10</th>\n",
       "      <td>[72, 52, 110, 47, 117, 65, 57, 67, 124, 70, 35...</td>\n",
       "      <td>female</td>\n",
       "      <td>argentina</td>\n",
       "      <td>69.34</td>\n",
       "      <td>65.0</td>\n",
       "      <td>20.996498</td>\n",
       "      <td>0.813515</td>\n",
       "    </tr>\n",
       "  </tbody>\n",
       "</table>\n",
       "</div>"
      ],
      "text/plain": [
       "                                                tuits    sexo   variedad  \\\n",
       "0   [91, 32, 87, 94, 47, 56, 68, 76, 127, 40, 82, ...  female  argentina   \n",
       "1   [62, 40, 39, 66, 55, 41, 72, 59, 76, 103, 76, ...  female  argentina   \n",
       "2   [55, 61, 22, 28, 28, 71, 25, 24, 32, 70, 33, 6...  female  argentina   \n",
       "3   [58, 79, 75, 45, 18, 139, 54, 46, 73, 68, 90, ...  female  argentina   \n",
       "4   [39, 25, 78, 36, 54, 123, 114, 70, 85, 55, 89,...  female  argentina   \n",
       "5   [119, 66, 129, 133, 77, 84, 107, 52, 75, 83, 1...  female  argentina   \n",
       "6   [67, 126, 55, 43, 46, 54, 33, 24, 60, 63, 31, ...  female  argentina   \n",
       "7   [138, 101, 45, 62, 74, 84, 133, 110, 134, 140,...  female  argentina   \n",
       "8   [137, 67, 68, 76, 91, 107, 92, 35, 69, 133, 4,...  female  argentina   \n",
       "9   [131, 82, 62, 19, 52, 99, 27, 105, 61, 73, 80,...  female  argentina   \n",
       "10  [72, 52, 110, 47, 117, 65, 57, 67, 124, 70, 35...  female  argentina   \n",
       "\n",
       "     mean  median        std  skewness  \n",
       "0   85.16    87.5  32.143843  0.106207  \n",
       "1   63.47    55.5  23.780331  0.709803  \n",
       "2   38.10    32.0  23.456601  1.556400  \n",
       "3   60.56    56.0  29.102161  0.717457  \n",
       "4   74.02    68.0  35.923876  0.385561  \n",
       "5   76.75    72.5  37.675482  0.221802  \n",
       "6   60.24    57.0  29.608257  0.842735  \n",
       "7   73.99    73.0  50.456201 -0.037711  \n",
       "8   75.97    69.0  36.419957  0.283163  \n",
       "9   84.67    81.0  34.431620  0.111638  \n",
       "10  69.34    65.0  20.996498  0.813515  "
      ]
     },
     "execution_count": 10,
     "metadata": {},
     "output_type": "execute_result"
    }
   ],
   "source": [
    "train.loc[0:10]"
   ]
  },
  {
   "cell_type": "markdown",
   "metadata": {},
   "source": [
    "**5- Generamos las matrices X de entrada al sistema considerando los cuatro columnas anteriormente creadas: mean, median, std, skewness.**"
   ]
  },
  {
   "cell_type": "code",
   "execution_count": 11,
   "metadata": {},
   "outputs": [
    {
     "data": {
      "text/html": [
       "<div>\n",
       "<style scoped>\n",
       "    .dataframe tbody tr th:only-of-type {\n",
       "        vertical-align: middle;\n",
       "    }\n",
       "\n",
       "    .dataframe tbody tr th {\n",
       "        vertical-align: top;\n",
       "    }\n",
       "\n",
       "    .dataframe thead th {\n",
       "        text-align: right;\n",
       "    }\n",
       "</style>\n",
       "<table border=\"1\" class=\"dataframe\">\n",
       "  <thead>\n",
       "    <tr style=\"text-align: right;\">\n",
       "      <th></th>\n",
       "      <th>mean</th>\n",
       "      <th>median</th>\n",
       "      <th>std</th>\n",
       "      <th>skewness</th>\n",
       "    </tr>\n",
       "  </thead>\n",
       "  <tbody>\n",
       "    <tr>\n",
       "      <th>0</th>\n",
       "      <td>85.16</td>\n",
       "      <td>87.5</td>\n",
       "      <td>32.143843</td>\n",
       "      <td>0.106207</td>\n",
       "    </tr>\n",
       "    <tr>\n",
       "      <th>1</th>\n",
       "      <td>63.47</td>\n",
       "      <td>55.5</td>\n",
       "      <td>23.780331</td>\n",
       "      <td>0.709803</td>\n",
       "    </tr>\n",
       "    <tr>\n",
       "      <th>2</th>\n",
       "      <td>38.10</td>\n",
       "      <td>32.0</td>\n",
       "      <td>23.456601</td>\n",
       "      <td>1.556400</td>\n",
       "    </tr>\n",
       "    <tr>\n",
       "      <th>3</th>\n",
       "      <td>60.56</td>\n",
       "      <td>56.0</td>\n",
       "      <td>29.102161</td>\n",
       "      <td>0.717457</td>\n",
       "    </tr>\n",
       "    <tr>\n",
       "      <th>4</th>\n",
       "      <td>74.02</td>\n",
       "      <td>68.0</td>\n",
       "      <td>35.923876</td>\n",
       "      <td>0.385561</td>\n",
       "    </tr>\n",
       "    <tr>\n",
       "      <th>5</th>\n",
       "      <td>76.75</td>\n",
       "      <td>72.5</td>\n",
       "      <td>37.675482</td>\n",
       "      <td>0.221802</td>\n",
       "    </tr>\n",
       "    <tr>\n",
       "      <th>6</th>\n",
       "      <td>60.24</td>\n",
       "      <td>57.0</td>\n",
       "      <td>29.608257</td>\n",
       "      <td>0.842735</td>\n",
       "    </tr>\n",
       "    <tr>\n",
       "      <th>7</th>\n",
       "      <td>73.99</td>\n",
       "      <td>73.0</td>\n",
       "      <td>50.456201</td>\n",
       "      <td>-0.037711</td>\n",
       "    </tr>\n",
       "    <tr>\n",
       "      <th>8</th>\n",
       "      <td>75.97</td>\n",
       "      <td>69.0</td>\n",
       "      <td>36.419957</td>\n",
       "      <td>0.283163</td>\n",
       "    </tr>\n",
       "    <tr>\n",
       "      <th>9</th>\n",
       "      <td>84.67</td>\n",
       "      <td>81.0</td>\n",
       "      <td>34.431620</td>\n",
       "      <td>0.111638</td>\n",
       "    </tr>\n",
       "    <tr>\n",
       "      <th>10</th>\n",
       "      <td>69.34</td>\n",
       "      <td>65.0</td>\n",
       "      <td>20.996498</td>\n",
       "      <td>0.813515</td>\n",
       "    </tr>\n",
       "  </tbody>\n",
       "</table>\n",
       "</div>"
      ],
      "text/plain": [
       "     mean  median        std  skewness\n",
       "0   85.16    87.5  32.143843  0.106207\n",
       "1   63.47    55.5  23.780331  0.709803\n",
       "2   38.10    32.0  23.456601  1.556400\n",
       "3   60.56    56.0  29.102161  0.717457\n",
       "4   74.02    68.0  35.923876  0.385561\n",
       "5   76.75    72.5  37.675482  0.221802\n",
       "6   60.24    57.0  29.608257  0.842735\n",
       "7   73.99    73.0  50.456201 -0.037711\n",
       "8   75.97    69.0  36.419957  0.283163\n",
       "9   84.67    81.0  34.431620  0.111638\n",
       "10  69.34    65.0  20.996498  0.813515"
      ]
     },
     "execution_count": 11,
     "metadata": {},
     "output_type": "execute_result"
    }
   ],
   "source": [
    "x_train = train.loc[:,['mean','median','std','skewness']]\n",
    "x_test  = test.loc[:,['mean','median','std','skewness']]\n",
    "\n",
    "x_train.loc[0:10]\n"
   ]
  },
  {
   "cell_type": "markdown",
   "metadata": {},
   "source": [
    "**6- SEXO**"
   ]
  },
  {
   "cell_type": "markdown",
   "metadata": {},
   "source": [
    "**Clasificador**"
   ]
  },
  {
   "cell_type": "code",
   "execution_count": 12,
   "metadata": {
    "collapsed": true
   },
   "outputs": [],
   "source": [
    "from sklearn.ensemble import RandomForestClassifier\n",
    "\n",
    "clf_gender = RandomForestClassifier(500).fit(x_train, train['sexo'])"
   ]
  },
  {
   "cell_type": "markdown",
   "metadata": {},
   "source": [
    "**Predicción**"
   ]
  },
  {
   "cell_type": "code",
   "execution_count": 13,
   "metadata": {
    "collapsed": true
   },
   "outputs": [],
   "source": [
    "predicted_gender = clf_gender.predict(x_test)"
   ]
  },
  {
   "cell_type": "markdown",
   "metadata": {},
   "source": [
    "Ejemplo de las predicciones"
   ]
  },
  {
   "cell_type": "code",
   "execution_count": 14,
   "metadata": {},
   "outputs": [
    {
     "data": {
      "text/plain": [
       "array(['male', 'male', 'female', 'male', 'female', 'male', 'female',\n",
       "       'male', 'female', 'female'], dtype=object)"
      ]
     },
     "execution_count": 14,
     "metadata": {},
     "output_type": "execute_result"
    }
   ],
   "source": [
    "predicted_gender[0:10]"
   ]
  },
  {
   "cell_type": "markdown",
   "metadata": {},
   "source": [
    "**Evaluación**"
   ]
  },
  {
   "cell_type": "code",
   "execution_count": 15,
   "metadata": {},
   "outputs": [
    {
     "name": "stdout",
     "output_type": "stream",
     "text": [
      "             precision    recall  f1-score   support\n",
      "\n",
      "     female       0.54      0.53      0.54       700\n",
      "       male       0.54      0.55      0.55       700\n",
      "\n",
      "avg / total       0.54      0.54      0.54      1400\n",
      "\n"
     ]
    }
   ],
   "source": [
    "from sklearn import metrics\n",
    "\n",
    "print(metrics.classification_report(test.sexo, predicted_gender))"
   ]
  },
  {
   "cell_type": "markdown",
   "metadata": {},
   "source": [
    "**7- VARIEDAD**"
   ]
  },
  {
   "cell_type": "markdown",
   "metadata": {},
   "source": [
    "**Clasificador**"
   ]
  },
  {
   "cell_type": "code",
   "execution_count": 16,
   "metadata": {
    "collapsed": true
   },
   "outputs": [],
   "source": [
    "from sklearn.ensemble import RandomForestClassifier\n",
    "\n",
    "clf_variety = RandomForestClassifier(500).fit(x_train, train['variedad'])"
   ]
  },
  {
   "cell_type": "markdown",
   "metadata": {},
   "source": [
    "**Predicción**"
   ]
  },
  {
   "cell_type": "code",
   "execution_count": 17,
   "metadata": {
    "collapsed": true
   },
   "outputs": [],
   "source": [
    "predicted_variety = clf_variety.predict(x_test)"
   ]
  },
  {
   "cell_type": "markdown",
   "metadata": {},
   "source": [
    "Ejemplo de las predicciones"
   ]
  },
  {
   "cell_type": "code",
   "execution_count": 18,
   "metadata": {},
   "outputs": [
    {
     "data": {
      "text/plain": [
       "array(['argentina', 'colombia', 'venezuela', 'chile', 'argentina',\n",
       "       'chile', 'peru', 'colombia', 'spain', 'argentina'], dtype=object)"
      ]
     },
     "execution_count": 18,
     "metadata": {},
     "output_type": "execute_result"
    }
   ],
   "source": [
    "predicted_variety[0:10]"
   ]
  },
  {
   "cell_type": "markdown",
   "metadata": {},
   "source": [
    "**Evaluación**"
   ]
  },
  {
   "cell_type": "code",
   "execution_count": 19,
   "metadata": {},
   "outputs": [
    {
     "name": "stdout",
     "output_type": "stream",
     "text": [
      "             precision    recall  f1-score   support\n",
      "\n",
      "  argentina       0.21      0.23      0.22       200\n",
      "      chile       0.17      0.19      0.18       200\n",
      "   colombia       0.16      0.14      0.15       200\n",
      "     mexico       0.22      0.20      0.21       200\n",
      "       peru       0.15      0.12      0.14       200\n",
      "      spain       0.17      0.16      0.16       200\n",
      "  venezuela       0.25      0.28      0.26       200\n",
      "\n",
      "avg / total       0.19      0.19      0.19      1400\n",
      "\n"
     ]
    }
   ],
   "source": [
    "from sklearn import metrics\n",
    "\n",
    "print(metrics.classification_report(test.variedad, predicted_variety))"
   ]
  },
  {
   "cell_type": "code",
   "execution_count": null,
   "metadata": {},
   "outputs": [],
   "source": []
  }
 ],
 "metadata": {
  "kernelspec": {
   "display_name": "Python 3",
   "language": "python",
   "name": "python3"
  },
  "language_info": {
   "codemirror_mode": {
    "name": "ipython",
    "version": 3
   },
   "file_extension": ".py",
   "mimetype": "text/x-python",
   "name": "python",
   "nbconvert_exporter": "python",
   "pygments_lexer": "ipython3",
   "version": "3.6.4"
  }
 },
 "nbformat": 4,
 "nbformat_minor": 2
}
