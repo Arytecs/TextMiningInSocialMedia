{
 "cells": [
  {
   "cell_type": "markdown",
   "metadata": {},
   "source": [
    "# INFO: Regular Expressions (python 3.x)\n",
    "https://docs.python.org/3/library/re.html\n",
    "\n",
    "https://docs.python.org/3/howto/regex.html#regex-howto\n",
    "\n",
    "http://marcobonzanini.com/2015/03/02/mining-twitter-data-with-python-part-1/\n"
   ]
  },
  {
   "cell_type": "markdown",
   "metadata": {},
   "source": [
    "# EJERCICIO 1: Quitar los signos de puntuación de la siguiente cadena:  ??. ppi. ¿casa?.. COSA. ??perro. ¿quesito? \"qüestió\" anar-hi.   "
   ]
  },
  {
   "cell_type": "code",
   "execution_count": 1,
   "metadata": {},
   "outputs": [
    {
     "name": "stdout",
     "output_type": "stream",
     "text": [
      "<_sre.SRE_Match object; span=(0, 9), match='??. ppi. '>\n",
      "??. \n",
      "ppi\n",
      ". \n",
      "->name:  ??. \n",
      "(0, 9)\n",
      "0\n",
      "9\n",
      "cadena= ??. ppi. \n",
      "<_sre.SRE_Match object; span=(0, 9), match='la la lam'>\n"
     ]
    }
   ],
   "source": [
    "import re\n",
    "frase=\"??. ppi. PEPE ¿casa?.. COSA. ??perro. ¿quesito? qüestió anar-hi.\"\n",
    "x=re.match(r'(?P<principi>\\W*)(\\w+)(\\W*)', frase)\n",
    "print(x)\n",
    "print (x.group(1))\n",
    "print (x.group(2))\n",
    "print (x.group(3))\n",
    "print (\"->name: \",x.group('principi'))\n",
    "print (x.span())\n",
    "print (x.start())\n",
    "print (x.end())\n",
    "cadena=frase[x.start():x.end()]\n",
    "print (\"cadena=\",cadena)\n",
    "print (re.match(r'(la) \\1 (lam)',\"la la lam\"))"
   ]
  },
  {
   "cell_type": "code",
   "execution_count": 29,
   "metadata": {},
   "outputs": [
    {
     "name": "stdout",
     "output_type": "stream",
     "text": [
      "[]\n"
     ]
    }
   ],
   "source": [
    "import re\n",
    "frase='\"t1 t2 t3 t4\"'\n",
    "pattern=re.compile (r'(\\\"(?:\\w*)(?:\\s+)?\\\")',re.I|re.U)\n",
    "fiall=pattern.findall(frase)\n",
    "print (fiall)\n",
    "\n"
   ]
  },
  {
   "cell_type": "code",
   "execution_count": 20,
   "metadata": {},
   "outputs": [
    {
     "name": "stdout",
     "output_type": "stream",
     "text": [
      "\"\n",
      "t1\n",
      " \n"
     ]
    }
   ],
   "source": [
    "#Compilar la expresion\n",
    "pattern=re.compile (r'(\\W*)(\\w+)(\\W*)',re.I|re.U) \n",
    "#pattern es la expresión regular compilada, y sobre ella se pueden utilizar los métodos match, search, findall, ...\n",
    "\n",
    "#Match: al principio de la cadena\n",
    "\n",
    "mat=pattern.match(frase)\n",
    "if mat:\n",
    "    print (mat.group(1))\n",
    "    print (mat.group(2))\n",
    "    print (mat.group(3))"
   ]
  },
  {
   "cell_type": "code",
   "execution_count": 3,
   "metadata": {},
   "outputs": [
    {
     "name": "stdout",
     "output_type": "stream",
     "text": [
      "??. \n",
      "ppi\n",
      ". \n"
     ]
    }
   ],
   "source": [
    "#Search: la primera que encuentra en la cadena\n",
    "sear=pattern.search(frase)\n",
    "if sear:\n",
    "    print (sear.group(1))\n",
    "    print (sear.group(2))\n",
    "    print (sear.group(3))"
   ]
  },
  {
   "cell_type": "code",
   "execution_count": 4,
   "metadata": {},
   "outputs": [
    {
     "name": "stdout",
     "output_type": "stream",
     "text": [
      "[<_sre.SRE_Match object; span=(0, 9), match='??. ppi. '>, <_sre.SRE_Match object; span=(9, 15), match='PEPE ¿'>, <_sre.SRE_Match object; span=(15, 23), match='casa?.. '>, <_sre.SRE_Match object; span=(23, 31), match='COSA. ??'>, <_sre.SRE_Match object; span=(31, 39), match='perro. ¿'>, <_sre.SRE_Match object; span=(39, 48), match='quesito? '>, <_sre.SRE_Match object; span=(48, 56), match='qüestió '>, <_sre.SRE_Match object; span=(56, 61), match='anar-'>, <_sre.SRE_Match object; span=(61, 64), match='hi.'>]\n"
     ]
    }
   ],
   "source": [
    "#Finditer: Todas las ocurrencias de la cadena\n",
    "fiiter=pattern.finditer(frase)\n",
    "print ([x for x in fiiter])"
   ]
  },
  {
   "cell_type": "code",
   "execution_count": 5,
   "metadata": {},
   "outputs": [
    {
     "name": "stdout",
     "output_type": "stream",
     "text": [
      "??. \n",
      "ppi\n",
      ". \n",
      "\n",
      "PEPE\n",
      " ¿\n",
      "\n",
      "casa\n",
      "?.. \n",
      "\n",
      "COSA\n",
      ". ??\n",
      "\n",
      "perro\n",
      ". ¿\n",
      "\n",
      "quesito\n",
      "? \n",
      "\n",
      "qüestió\n",
      " \n",
      "\n",
      "anar\n",
      "-\n",
      "\n",
      "hi\n",
      ".\n"
     ]
    }
   ],
   "source": [
    "#Finditer:\n",
    "fiiter=pattern.finditer(frase)\n",
    "for i in fiiter:\n",
    "    print (i.group(1))\n",
    "    print (i.group(2))\n",
    "    print (i.group(3))"
   ]
  },
  {
   "cell_type": "code",
   "execution_count": 6,
   "metadata": {},
   "outputs": [
    {
     "name": "stdout",
     "output_type": "stream",
     "text": [
      "[('??. ', 'ppi', '. '), ('', 'PEPE', ' ¿'), ('', 'casa', '?.. '), ('', 'COSA', '. ??'), ('', 'perro', '. ¿'), ('', 'quesito', '? '), ('', 'qüestió', ' '), ('', 'anar', '-'), ('', 'hi', '.')]\n",
      "ppi\n",
      "PEPE\n",
      "casa\n",
      "COSA\n",
      "perro\n",
      "quesito\n",
      "qüestió\n",
      "anar\n",
      "hi\n"
     ]
    }
   ],
   "source": [
    "# Findall: Totes las ocurrencias de la cadena\n",
    "fiall=pattern.findall(frase)\n",
    "print (fiall)\n",
    "for i in fiall:\n",
    "    print (i[1])"
   ]
  },
  {
   "cell_type": "markdown",
   "metadata": {},
   "source": [
    "# EJERCICIO 2: \"sustituye la palabra eso por  3 guiones, pero OJO con queso, o beso, o en ESO en mayúsculas\""
   ]
  },
  {
   "cell_type": "code",
   "execution_count": 7,
   "metadata": {},
   "outputs": [
    {
     "name": "stdout",
     "output_type": "stream",
     "text": [
      "sustituye la palabra eso por  3 guiones, pero OJO con queso, o beso, o en ESO en mayúsculas\n",
      "sustituye la palabra --- por  3 guiones, pero OJO con queso, o beso, o en --- en mayúsculas\n"
     ]
    }
   ],
   "source": [
    "frase1='sustituye la palabra eso por  3 guiones, pero OJO con queso, o beso, o en ESO en mayúsculas'\n",
    "print (frase1)\n",
    "susti=re.compile (r'(\\beso\\b)',re.I|re.U)\n",
    "#x=re.sub(r'eso',' ',frase1)\n",
    "x=re.sub(susti,'---',frase1)\n",
    "print(x)"
   ]
  },
  {
   "cell_type": "markdown",
   "metadata": {},
   "source": [
    "# EJERCICIO 3: encontrar fechas con formato dd/mm/aaaa, dd/mm. El separador también puede ser  un guión."
   ]
  },
  {
   "cell_type": "code",
   "execution_count": 8,
   "metadata": {
    "collapsed": true
   },
   "outputs": [],
   "source": [
    "import re\n",
    "ejemplo=\"el 12/03/1987 el 23/03 o el 24-04 no \""
   ]
  },
  {
   "cell_type": "code",
   "execution_count": 9,
   "metadata": {
    "collapsed": true
   },
   "outputs": [],
   "source": [
    "date=\"(\\d{2}(/|-)\\d{2}((/|-)\\d{4})?)\"\n",
    "pattern=re.compile (date,re.I|re.U)\n"
   ]
  },
  {
   "cell_type": "code",
   "execution_count": 10,
   "metadata": {
    "scrolled": true
   },
   "outputs": [
    {
     "name": "stdout",
     "output_type": "stream",
     "text": [
      "12/03/1987\n",
      "23/03\n",
      "24-04\n"
     ]
    }
   ],
   "source": [
    "fiiter=pattern.finditer(ejemplo)\n",
    "for i in fiiter:\n",
    "    print (ejemplo[i.start():i.end()])"
   ]
  },
  {
   "cell_type": "markdown",
   "metadata": {},
   "source": [
    "# EJERCICIO 4: definir una RE que reconozca las instancias de \"Dani Alvez\" del texto del ejemplo"
   ]
  },
  {
   "cell_type": "code",
   "execution_count": 11,
   "metadata": {},
   "outputs": [
    {
     "name": "stdout",
     "output_type": "stream",
     "text": [
      "CON GRUPOS:\n",
      "----------\n",
      "('#dani', ' ', 'alves')\n",
      "('#daniel', ' ', 'alves')\n",
      "('#daniel', '', 'alves99_k')\n",
      "('@daniel_kk', ' ', 'alves')\n",
      "('', ' ', '#alves')\n",
      "('', ' ', 'alves')\n",
      "----------\n",
      "SIN GRUPOS:\n",
      "----------\n",
      "#dani alves\n",
      "#daniel alves\n",
      "#danielalves99_k\n",
      "@daniel_kk alves\n",
      " #alves\n",
      " alves\n",
      "----------\n"
     ]
    }
   ],
   "source": [
    "import re\n",
    "texto= \"#dani alves #daniel alves #danielalves99_k daniel @daniel_kk alves #alves alves\"\n",
    "pattern_con_grupos=re.compile(r'([#@]?dani\\S*)? (\\s)* ([#@]?alves\\S*)+',re.I|re.X)\n",
    "pattern_sin_grupos=re.compile(r'(?:[#@]?dani\\S*)? (?:\\s)* (?:[#@]?alves\\S*)+',re.I|re.X)\n",
    "#IMPORTANTE: poner la opciones:\n",
    "# re.I: para olvidarte de mayúsculas y minúsculas\n",
    "# re.X: para olvidarte de blancos y comentarios dentro de las expresiones regulares\n",
    "#        si no se pone y dejas un blanco, es una parte mas de regex\n",
    "# Ojo con los parentesis: cada vez que pones una expresión entre parentesis es un grupo \n",
    "# y a veces no interesa\n",
    "# Si pones por ejemplo (xxx) es un grupo, si no quieres grupo (?:xxx)\n",
    "\n",
    "#Con grupos\n",
    "print(\"CON GRUPOS:\")\n",
    "print(\"----------\") \n",
    "results_grupos=pattern_con_grupos.findall(texto)\n",
    "for f in results_grupos:\n",
    "    print (f)\n",
    "print(\"----------\")  \n",
    "\n",
    "#Sin grupos\n",
    "print(\"SIN GRUPOS:\")\n",
    "print(\"----------\") \n",
    "results_sin_grupos=pattern_sin_grupos.findall(texto)\n",
    "for f in results_sin_grupos:\n",
    "    print (f)\n",
    "print(\"----------\") \n"
   ]
  },
  {
   "cell_type": "code",
   "execution_count": null,
   "metadata": {
    "collapsed": true
   },
   "outputs": [],
   "source": []
  }
 ],
 "metadata": {
  "kernelspec": {
   "display_name": "Python 3",
   "language": "python",
   "name": "python3"
  },
  "language_info": {
   "codemirror_mode": {
    "name": "ipython",
    "version": 3
   },
   "file_extension": ".py",
   "mimetype": "text/x-python",
   "name": "python",
   "nbconvert_exporter": "python",
   "pygments_lexer": "ipython3",
   "version": "3.6.2"
  }
 },
 "nbformat": 4,
 "nbformat_minor": 1
}
