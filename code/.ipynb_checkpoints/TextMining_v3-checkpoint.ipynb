{
 "cells": [
  {
   "cell_type": "markdown",
   "metadata": {},
   "source": [
    "# TEST"
   ]
  },
  {
   "cell_type": "code",
   "execution_count": 2,
   "metadata": {},
   "outputs": [
    {
     "name": "stdout",
     "output_type": "stream",
     "text": [
      "{'male': 700, 'female': 700} {'colombia': 200, 'argentina': 200, 'spain': 200, 'venezuela': 200, 'peru': 200, 'chile': 200, 'mexico': 200} 1400\n"
     ]
    }
   ],
   "source": [
    "# OBTENEMOS UN DICCIONARIO (ids_test) CON LOS IDS DE USUARIO POR VARIEDAD Y SEXO\n",
    "\n",
    "f = open('./test/truth.txt')\n",
    "\n",
    "contador=0\n",
    "sexo={'male':0,'female':0}\n",
    "variedades={'colombia':0,'argentina':0,'spain':0,'venezuela':0,'peru':0,'chile':0,'mexico':0}\n",
    "\n",
    "ids_test={'colombia':{'male':[],'female':[]},'argentina':{'male':[],'female':[]},'spain':{'male':[],'female':[]}, \\\n",
    "     'venezuela':{'male':[],'female':[]},'peru':{'male':[],'female':[]},'chile':{'male':[],'female':[]}, \\\n",
    "     'mexico':{'male':[],'female':[]}}\n",
    "\n",
    "#print(len(f.readlines()))\n",
    "\n",
    "for line in f:\n",
    "    line=line.rstrip()\n",
    "    if len(line)==0:\n",
    "        continue\n",
    "    lista=line.split(':::')\n",
    "    \n",
    "    ids_test[lista[2]][lista[1]].append(lista[0])\n",
    "    \n",
    "    sexo[lista[1]] += 1\n",
    "    variedades[lista[2]] += 1\n",
    "    contador+=1\n",
    "\n",
    "print(sexo,variedades,contador)\n"
   ]
  },
  {
   "cell_type": "code",
   "execution_count": 4,
   "metadata": {},
   "outputs": [
    {
     "name": "stdout",
     "output_type": "stream",
     "text": [
      "{'male': 1400, 'female': 1400} {'colombia': 400, 'argentina': 400, 'spain': 400, 'venezuela': 400, 'peru': 400, 'chile': 400, 'mexico': 400} 2800\n"
     ]
    }
   ],
   "source": [
    "# OBTENEMOS UN DICCIONARIO (ids_train) CON LOS IDS DE USUARIO POR VARIEDAD Y SEXO\n",
    "\n",
    "f = open('./training/truth.txt')\n",
    "\n",
    "contador=0\n",
    "sexo={'male':0,'female':0}\n",
    "variedades={'colombia':0,'argentina':0,'spain':0,'venezuela':0,'peru':0,'chile':0,'mexico':0}\n",
    "\n",
    "ids_train={'colombia':{'male':[],'female':[]},'argentina':{'male':[],'female':[]},'spain':{'male':[],'female':[]}, \\\n",
    "     'venezuela':{'male':[],'female':[]},'peru':{'male':[],'female':[]},'chile':{'male':[],'female':[]}, \\\n",
    "     'mexico':{'male':[],'female':[]}}\n",
    "\n",
    "#print(len(f.readlines()))\n",
    "\n",
    "for line in f:\n",
    "    line=line.rstrip()\n",
    "    if len(line)==0:\n",
    "        continue\n",
    "    lista=line.split(':::')\n",
    "    \n",
    "    ids_train[lista[2]][lista[1]].append(lista[0])\n",
    "    \n",
    "    sexo[lista[1]] += 1\n",
    "    variedades[lista[2]] += 1\n",
    "    contador+=1\n",
    "\n",
    "print(sexo,variedades,contador)"
   ]
  },
  {
   "cell_type": "code",
   "execution_count": 12,
   "metadata": {
    "collapsed": true
   },
   "outputs": [],
   "source": [
    "# FUNCIÓN QUE DEVUELVE UNA LISTA CON LOS TUITS DE UN ID DE USUARIO\n",
    "\n",
    "def leer_tuits(id,particion):\n",
    "    if particion == 'train':\n",
    "        s='./training/' + id + '.xml'\n",
    "    else:\n",
    "        s='./test/' + id + '.xml'\n",
    "    f=open(s)\n",
    "    tuits=list()\n",
    "    for line in f:\n",
    "        line=line.rstrip()\n",
    "        if line.find('<document><![CDATA[') != -1:\n",
    "            line=line[21:-14]\n",
    "            tuits.append(line)\n",
    "    return tuits\n",
    "\n",
    "def leer_tuits_string(id,particion):\n",
    "    if particion == 'train':\n",
    "        s='./training/' + id + '.xml'\n",
    "    else:\n",
    "        s='./test/' + id + '.xml'\n",
    "    f=open(s)\n",
    "    tuits=list()\n",
    "    for line in f:\n",
    "        line=line.rstrip()\n",
    "        if line.find('<document><![CDATA[') != -1:\n",
    "            line=line[21:-14]\n",
    "            tuits.append(line)\n",
    "    return flatstring(tuits)\n"
   ]
  },
  {
   "cell_type": "code",
   "execution_count": 6,
   "metadata": {},
   "outputs": [
    {
     "data": {
      "text/plain": [
       "[1, 2, 3, 4, 5, 6]"
      ]
     },
     "execution_count": 6,
     "metadata": {},
     "output_type": "execute_result"
    }
   ],
   "source": [
    "# FUNCIÓN QUE CONVIERTE UNA list[list] en list\n",
    "\n",
    "def flatlist(lista):\n",
    "    flatlist=list()\n",
    "    for sublista in lista:\n",
    "        for item in sublista:\n",
    "            flatlist.append(item)\n",
    "    return flatlist\n",
    "\n",
    "flatlist([[1,2],[3],[4,5,6]])"
   ]
  },
  {
   "cell_type": "code",
   "execution_count": 7,
   "metadata": {
    "collapsed": true
   },
   "outputs": [],
   "source": [
    "def flatstring(lista):\n",
    "    s=\"\"\n",
    "    for item in lista:\n",
    "        s+=item\n",
    "    return s\n",
    "\n"
   ]
  },
  {
   "cell_type": "code",
   "execution_count": 8,
   "metadata": {
    "collapsed": true
   },
   "outputs": [],
   "source": [
    "# FUNCIÓN QUE DEVUELVE UNA LISTA CON LOS TUITS DE UNA VARIEDAD Y UN SEXO DADOS\n",
    "\n",
    "def obtener_tuits(ids,variedad,sexo,particion):\n",
    "    tuits=list()\n",
    "    for id in ids[variedad][sexo]:\n",
    "        tuits.append(leer_tuits(id,particion))\n",
    "    tuits=flatlist(tuits)\n",
    "    return tuits\n",
    "     \n",
    "def obtener_tuits_string(ids,variedad,sexo,particion):\n",
    "    tuits=list()\n",
    "    for id in ids[variedad][sexo]:\n",
    "        tuits.append(leer_tuits_string(id,particion))\n",
    "    #tuits=flatlist(tuits)\n",
    "    return tuits"
   ]
  },
  {
   "cell_type": "code",
   "execution_count": 9,
   "metadata": {
    "collapsed": true
   },
   "outputs": [],
   "source": [
    "variedades_lista = ['argentina', 'chile', 'colombia', 'mexico', 'peru', 'spain', 'venezuela']\n",
    "sexo_lista = ['female','male']\n",
    "variedades_lista_numero = {'argentina':1, 'chile':2, 'colombia': 3, 'mexico': 4, 'peru': 5, 'spain': 6, 'venezuela':7}"
   ]
  },
  {
   "cell_type": "markdown",
   "metadata": {},
   "source": [
    "**intentamos quedarnos con solo los tuits de cada variedad para que luego pueda calcular la tf_idf según variedad**"
   ]
  },
  {
   "cell_type": "code",
   "execution_count": 13,
   "metadata": {},
   "outputs": [
    {
     "name": "stdout",
     "output_type": "stream",
     "text": [
      "argentina\n",
      "\t female 200\n",
      "\t male 200\n",
      "400\n",
      "chile\n",
      "\t female 200\n",
      "\t male 200\n",
      "400\n",
      "colombia\n",
      "\t female 200\n",
      "\t male 200\n",
      "400\n",
      "mexico\n",
      "\t female 200\n",
      "\t male 200\n",
      "400\n",
      "peru\n",
      "\t female 200\n",
      "\t male 200\n",
      "400\n",
      "spain\n",
      "\t female 200\n",
      "\t male 200\n",
      "400\n",
      "venezuela\n",
      "\t female 200\n",
      "\t male 200\n",
      "400\n"
     ]
    }
   ],
   "source": [
    "import pandas as pd\n",
    "\n",
    "x_train = pd.DataFrame(columns = ['tuits','sexo','variedad'])\n",
    "\n",
    "# cada fila será un usuario del train. En total debe haber 2800 filas.\n",
    "\n",
    "i=0\n",
    "for variedad in variedades_lista:\n",
    "    v=0\n",
    "    print(variedad)\n",
    "    for sexo in sexo_lista:\n",
    "        s=0\n",
    "        for id in ids_train[variedad][sexo]:\n",
    "            t = leer_tuits_string(id,'train')\n",
    "            x_train.loc[i] = [t,sexo,variedad]\n",
    "            i+=1\n",
    "            v+=1\n",
    "            s+=1\n",
    "        print(\"\\t\",sexo,s)\n",
    "    print(v)\n"
   ]
  },
  {
   "cell_type": "code",
   "execution_count": 14,
   "metadata": {},
   "outputs": [
    {
     "data": {
      "text/html": [
       "<div>\n",
       "<style>\n",
       "    .dataframe thead tr:only-child th {\n",
       "        text-align: right;\n",
       "    }\n",
       "\n",
       "    .dataframe thead th {\n",
       "        text-align: left;\n",
       "    }\n",
       "\n",
       "    .dataframe tbody tr th {\n",
       "        vertical-align: top;\n",
       "    }\n",
       "</style>\n",
       "<table border=\"1\" class=\"dataframe\">\n",
       "  <thead>\n",
       "    <tr style=\"text-align: right;\">\n",
       "      <th></th>\n",
       "      <th>tuits</th>\n",
       "      <th>sexo</th>\n",
       "      <th>variedad</th>\n",
       "    </tr>\n",
       "  </thead>\n",
       "  <tbody>\n",
       "    <tr>\n",
       "      <th>0</th>\n",
       "      <td>El perfil anti-Macri del anestesista acusado d...</td>\n",
       "      <td>female</td>\n",
       "      <td>argentina</td>\n",
       "    </tr>\n",
       "    <tr>\n",
       "      <th>1</th>\n",
       "      <td>#Cristina2017  como les vamos a romper el oje....</td>\n",
       "      <td>female</td>\n",
       "      <td>argentina</td>\n",
       "    </tr>\n",
       "    <tr>\n",
       "      <th>2</th>\n",
       "      <td>Mi unica compañera de locuras 👭 https://t.co/Q...</td>\n",
       "      <td>female</td>\n",
       "      <td>argentina</td>\n",
       "    </tr>\n",
       "    <tr>\n",
       "      <th>3</th>\n",
       "      <td>Le estan rompiendo el ortx a todos con los ope...</td>\n",
       "      <td>female</td>\n",
       "      <td>argentina</td>\n",
       "    </tr>\n",
       "    <tr>\n",
       "      <th>4</th>\n",
       "      <td>2 días de #CopaDavis 🎾 y quedé así. SuuEstoy m...</td>\n",
       "      <td>female</td>\n",
       "      <td>argentina</td>\n",
       "    </tr>\n",
       "    <tr>\n",
       "      <th>5</th>\n",
       "      <td>Vamos por doble turno hoy de entrenamiento . S...</td>\n",
       "      <td>female</td>\n",
       "      <td>argentina</td>\n",
       "    </tr>\n",
       "    <tr>\n",
       "      <th>6</th>\n",
       "      <td>Meli Garat tan linda y talentosa pero ustedes ...</td>\n",
       "      <td>female</td>\n",
       "      <td>argentina</td>\n",
       "    </tr>\n",
       "    <tr>\n",
       "      <th>7</th>\n",
       "      <td>Que mejor manera de celebrar El cumpleaños de ...</td>\n",
       "      <td>female</td>\n",
       "      <td>argentina</td>\n",
       "    </tr>\n",
       "    <tr>\n",
       "      <th>8</th>\n",
       "      <td>@lfsur @RioNegroTurismo @argentinapatago @Silv...</td>\n",
       "      <td>female</td>\n",
       "      <td>argentina</td>\n",
       "    </tr>\n",
       "    <tr>\n",
       "      <th>9</th>\n",
       "      <td>La que nos ve y corre. La que nos ve y se mete...</td>\n",
       "      <td>female</td>\n",
       "      <td>argentina</td>\n",
       "    </tr>\n",
       "  </tbody>\n",
       "</table>\n",
       "</div>"
      ],
      "text/plain": [
       "                                               tuits    sexo   variedad\n",
       "0  El perfil anti-Macri del anestesista acusado d...  female  argentina\n",
       "1  #Cristina2017  como les vamos a romper el oje....  female  argentina\n",
       "2  Mi unica compañera de locuras 👭 https://t.co/Q...  female  argentina\n",
       "3  Le estan rompiendo el ortx a todos con los ope...  female  argentina\n",
       "4  2 días de #CopaDavis 🎾 y quedé así. SuuEstoy m...  female  argentina\n",
       "5  Vamos por doble turno hoy de entrenamiento . S...  female  argentina\n",
       "6  Meli Garat tan linda y talentosa pero ustedes ...  female  argentina\n",
       "7  Que mejor manera de celebrar El cumpleaños de ...  female  argentina\n",
       "8  @lfsur @RioNegroTurismo @argentinapatago @Silv...  female  argentina\n",
       "9  La que nos ve y corre. La que nos ve y se mete...  female  argentina"
      ]
     },
     "execution_count": 14,
     "metadata": {},
     "output_type": "execute_result"
    }
   ],
   "source": [
    "x_train[0:10]"
   ]
  },
  {
   "cell_type": "code",
   "execution_count": 15,
   "metadata": {},
   "outputs": [
    {
     "name": "stdout",
     "output_type": "stream",
     "text": [
      "argentina\n",
      "\t female 100\n",
      "\t male 100\n",
      "200\n",
      "chile\n",
      "\t female 100\n",
      "\t male 100\n",
      "200\n",
      "colombia\n",
      "\t female 100\n",
      "\t male 100\n",
      "200\n",
      "mexico\n",
      "\t female 100\n",
      "\t male 100\n",
      "200\n",
      "peru\n",
      "\t female 100\n",
      "\t male 100\n",
      "200\n",
      "spain\n",
      "\t female 100\n",
      "\t male 100\n",
      "200\n",
      "venezuela\n",
      "\t female 100\n",
      "\t male 100\n",
      "200\n"
     ]
    }
   ],
   "source": [
    "# USUARIOS DE TEST\n",
    "\n",
    "import pandas as pd\n",
    "\n",
    "x_test = pd.DataFrame(columns = ['tuits','sexo','variedad'])\n",
    "\n",
    "# cada fila será un usuario del test. En total debe haber 1400 filas.\n",
    "\n",
    "i=0\n",
    "for variedad in variedades_lista:\n",
    "    v=0\n",
    "    print(variedad)\n",
    "    for sexo in sexo_lista:\n",
    "        s=0\n",
    "        for id in ids_test[variedad][sexo]:\n",
    "            t = leer_tuits_string(id,'test')\n",
    "            x_test.loc[i] = [t,sexo,variedad]\n",
    "            i+=1\n",
    "            v+=1\n",
    "            s+=1\n",
    "        print(\"\\t\",sexo,s)\n",
    "    print(v)"
   ]
  },
  {
   "cell_type": "code",
   "execution_count": 16,
   "metadata": {},
   "outputs": [
    {
     "data": {
      "text/html": [
       "<div>\n",
       "<style>\n",
       "    .dataframe thead tr:only-child th {\n",
       "        text-align: right;\n",
       "    }\n",
       "\n",
       "    .dataframe thead th {\n",
       "        text-align: left;\n",
       "    }\n",
       "\n",
       "    .dataframe tbody tr th {\n",
       "        vertical-align: top;\n",
       "    }\n",
       "</style>\n",
       "<table border=\"1\" class=\"dataframe\">\n",
       "  <thead>\n",
       "    <tr style=\"text-align: right;\">\n",
       "      <th></th>\n",
       "      <th>tuits</th>\n",
       "      <th>sexo</th>\n",
       "      <th>variedad</th>\n",
       "    </tr>\n",
       "  </thead>\n",
       "  <tbody>\n",
       "    <tr>\n",
       "      <th>198</th>\n",
       "      <td>El amor a primera vista no funciona en mí 🎵Una...</td>\n",
       "      <td>male</td>\n",
       "      <td>argentina</td>\n",
       "    </tr>\n",
       "    <tr>\n",
       "      <th>199</th>\n",
       "      <td>#viernes !! 🙌🙌 @ Ensenada, Buenos Aires https:...</td>\n",
       "      <td>male</td>\n",
       "      <td>argentina</td>\n",
       "    </tr>\n",
       "    <tr>\n",
       "      <th>200</th>\n",
       "      <td>\"Y que, por fin, mi Cada día https://t.co/QxnK...</td>\n",
       "      <td>female</td>\n",
       "      <td>chile</td>\n",
       "    </tr>\n",
       "    <tr>\n",
       "      <th>201</th>\n",
       "      <td>La colación que rica está ,la comeremos hasta ...</td>\n",
       "      <td>female</td>\n",
       "      <td>chile</td>\n",
       "    </tr>\n",
       "    <tr>\n",
       "      <th>202</th>\n",
       "      <td>que tenga uno que andar peleando para que las ...</td>\n",
       "      <td>female</td>\n",
       "      <td>chile</td>\n",
       "    </tr>\n",
       "    <tr>\n",
       "      <th>203</th>\n",
       "      <td>@rrojascarreno @terranova60 @chivi45 @estadona...</td>\n",
       "      <td>female</td>\n",
       "      <td>chile</td>\n",
       "    </tr>\n",
       "    <tr>\n",
       "      <th>204</th>\n",
       "      <td>@AyudaMovistarCL 18 dias sin servicio! Superar...</td>\n",
       "      <td>female</td>\n",
       "      <td>chile</td>\n",
       "    </tr>\n",
       "    <tr>\n",
       "      <th>205</th>\n",
       "      <td>Lady Gaga recita el Pledge Allegiance, al inic...</td>\n",
       "      <td>female</td>\n",
       "      <td>chile</td>\n",
       "    </tr>\n",
       "    <tr>\n",
       "      <th>206</th>\n",
       "      <td>el mundo es de los que se atreven, de los queH...</td>\n",
       "      <td>female</td>\n",
       "      <td>chile</td>\n",
       "    </tr>\n",
       "    <tr>\n",
       "      <th>207</th>\n",
       "      <td>@ElZiudadano @vlourbano los envidiosos dirán q...</td>\n",
       "      <td>female</td>\n",
       "      <td>chile</td>\n",
       "    </tr>\n",
       "    <tr>\n",
       "      <th>208</th>\n",
       "      <td>@buggynight Viéndolo fríamente es muy mala jug...</td>\n",
       "      <td>female</td>\n",
       "      <td>chile</td>\n",
       "    </tr>\n",
       "    <tr>\n",
       "      <th>209</th>\n",
       "      <td>@Mega culiao siempre las caga 😠😠😠 https://t.co...</td>\n",
       "      <td>female</td>\n",
       "      <td>chile</td>\n",
       "    </tr>\n",
       "  </tbody>\n",
       "</table>\n",
       "</div>"
      ],
      "text/plain": [
       "                                                 tuits    sexo   variedad\n",
       "198  El amor a primera vista no funciona en mí 🎵Una...    male  argentina\n",
       "199  #viernes !! 🙌🙌 @ Ensenada, Buenos Aires https:...    male  argentina\n",
       "200  \"Y que, por fin, mi Cada día https://t.co/QxnK...  female      chile\n",
       "201  La colación que rica está ,la comeremos hasta ...  female      chile\n",
       "202  que tenga uno que andar peleando para que las ...  female      chile\n",
       "203  @rrojascarreno @terranova60 @chivi45 @estadona...  female      chile\n",
       "204  @AyudaMovistarCL 18 dias sin servicio! Superar...  female      chile\n",
       "205  Lady Gaga recita el Pledge Allegiance, al inic...  female      chile\n",
       "206  el mundo es de los que se atreven, de los queH...  female      chile\n",
       "207  @ElZiudadano @vlourbano los envidiosos dirán q...  female      chile\n",
       "208  @buggynight Viéndolo fríamente es muy mala jug...  female      chile\n",
       "209  @Mega culiao siempre las caga 😠😠😠 https://t.co...  female      chile"
      ]
     },
     "execution_count": 16,
     "metadata": {},
     "output_type": "execute_result"
    }
   ],
   "source": [
    "x_test[198:210]"
   ]
  },
  {
   "cell_type": "code",
   "execution_count": null,
   "metadata": {
    "collapsed": true
   },
   "outputs": [],
   "source": []
  },
  {
   "cell_type": "code",
   "execution_count": null,
   "metadata": {
    "collapsed": true
   },
   "outputs": [],
   "source": []
  },
  {
   "cell_type": "code",
   "execution_count": 27,
   "metadata": {},
   "outputs": [
    {
     "data": {
      "text/plain": [
       "(2800, 7036)"
      ]
     },
     "execution_count": 27,
     "metadata": {},
     "output_type": "execute_result"
    }
   ],
   "source": [
    "from nltk.tokenize import TweetTokenizer\n",
    "from sklearn.feature_extraction.text import CountVectorizer\n",
    "from sklearn.ensemble import RandomForestClassifier\n",
    "from stop_words import get_stop_words\n",
    "from sklearn.feature_extraction.text import TfidfVectorizer\n",
    "from sklearn.feature_extraction.text import TfidfTransformer\n",
    "import numpy as np\n",
    "from scipy.sparse.csr import csr_matrix #need this if you want to save tfidf_matrix\n",
    "\n",
    "tokenizador = TweetTokenizer(reduce_len=True, preserve_case=False, strip_handles=True)\n",
    "stop_words = get_stop_words('es')\n",
    "\n",
    "#vec = CountVectorizer(tokenizer=tokenizador.tokenize,stop_words=stop_words,min_df=0.001)\n",
    "vec = CountVectorizer(tokenizer=tokenizador.tokenize,min_df=0.01)\n",
    "\n",
    "X_train = vec.fit_transform(x_train['tuits'])\n",
    "X_train\n",
    "\n",
    "tf_transformer = TfidfTransformer().fit(X_train)\n",
    "X_train_tf = tf_transformer.transform(X_train)\n",
    "X_train_tf.shape\n",
    "\n",
    "\n"
   ]
  },
  {
   "cell_type": "code",
   "execution_count": null,
   "metadata": {
    "collapsed": true
   },
   "outputs": [],
   "source": []
  },
  {
   "cell_type": "markdown",
   "metadata": {},
   "source": [
    "** CLASIFICADOR GENDER**"
   ]
  },
  {
   "cell_type": "code",
   "execution_count": 28,
   "metadata": {
    "collapsed": true
   },
   "outputs": [],
   "source": [
    "from sklearn.naive_bayes import MultinomialNB\n",
    "\n",
    "clf_gender = MultinomialNB().fit(X_train, x_train['sexo'])\n",
    "\n"
   ]
  },
  {
   "cell_type": "code",
   "execution_count": 29,
   "metadata": {
    "collapsed": true
   },
   "outputs": [],
   "source": [
    "from sklearn.ensemble import RandomForestClassifier\n",
    "\n",
    "clf_RF_gender = RandomForestClassifier(500).fit(X_train, x_train['sexo'])\n"
   ]
  },
  {
   "cell_type": "code",
   "execution_count": null,
   "metadata": {
    "collapsed": true
   },
   "outputs": [],
   "source": []
  },
  {
   "cell_type": "markdown",
   "metadata": {},
   "source": [
    "** PREDICCIÓN GENDER**"
   ]
  },
  {
   "cell_type": "code",
   "execution_count": 36,
   "metadata": {
    "collapsed": true
   },
   "outputs": [],
   "source": [
    "\n",
    "\n",
    "X_test = vec.transform(x_test['tuits'])\n",
    "X_test_tf = tf_transformer.transform(X_test)\n",
    "predicted_gender = clf_gender.predict(X_test)\n",
    "\n",
    "\n"
   ]
  },
  {
   "cell_type": "code",
   "execution_count": 31,
   "metadata": {
    "collapsed": true
   },
   "outputs": [],
   "source": [
    "predicted_gender_RF = clf_RF_gender.predict(X_test)"
   ]
  },
  {
   "cell_type": "code",
   "execution_count": 32,
   "metadata": {},
   "outputs": [
    {
     "data": {
      "text/plain": [
       "array(['female', 'male', 'female', 'male', 'female', 'male', 'female',\n",
       "       'female', 'female', 'female'], dtype=object)"
      ]
     },
     "execution_count": 32,
     "metadata": {},
     "output_type": "execute_result"
    }
   ],
   "source": [
    "predicted_gender_RF[0:10]"
   ]
  },
  {
   "cell_type": "markdown",
   "metadata": {},
   "source": [
    "** MÉTRICAS GENDER **"
   ]
  },
  {
   "cell_type": "code",
   "execution_count": 33,
   "metadata": {},
   "outputs": [
    {
     "data": {
      "text/plain": [
       "[('male', 70), ('female', 30)]"
      ]
     },
     "execution_count": 33,
     "metadata": {},
     "output_type": "execute_result"
    }
   ],
   "source": [
    "from collections import Counter\n",
    "\n",
    "c = Counter(predicted_gender_RF[700:800])\n",
    "\n",
    "c.most_common()"
   ]
  },
  {
   "cell_type": "code",
   "execution_count": 34,
   "metadata": {},
   "outputs": [
    {
     "name": "stdout",
     "output_type": "stream",
     "text": [
      "             precision    recall  f1-score   support\n",
      "\n",
      "     female       0.70      0.66      0.68       700\n",
      "       male       0.68      0.72      0.70       700\n",
      "\n",
      "avg / total       0.69      0.69      0.69      1400\n",
      "\n"
     ]
    }
   ],
   "source": [
    "from sklearn import metrics\n",
    "\n",
    "print(metrics.classification_report(x_test.sexo, predicted_gender))"
   ]
  },
  {
   "cell_type": "code",
   "execution_count": null,
   "metadata": {
    "collapsed": true
   },
   "outputs": [],
   "source": []
  },
  {
   "cell_type": "markdown",
   "metadata": {
    "collapsed": true
   },
   "source": [
    "** CLASIFICADOR Y PREDICTOR VARIETY **"
   ]
  },
  {
   "cell_type": "code",
   "execution_count": 37,
   "metadata": {},
   "outputs": [],
   "source": [
    "from sklearn.naive_bayes import MultinomialNB\n",
    "\n",
    "clf_variety = MultinomialNB().fit(X_train_tf, x_train['variedad'])\n",
    "predicted_variety = clf_variety.predict(X_test_tf)"
   ]
  },
  {
   "cell_type": "code",
   "execution_count": 38,
   "metadata": {
    "collapsed": true
   },
   "outputs": [],
   "source": [
    "from sklearn.ensemble import RandomForestClassifier\n",
    "\n",
    "clf_RF = RandomForestClassifier(500).fit(X_train_tf, x_train['variedad'])\n",
    "predicted_variety_RF = clf_RF.predict(X_test_tf)\n"
   ]
  },
  {
   "cell_type": "code",
   "execution_count": null,
   "metadata": {
    "collapsed": true
   },
   "outputs": [],
   "source": []
  },
  {
   "cell_type": "code",
   "execution_count": null,
   "metadata": {
    "collapsed": true
   },
   "outputs": [],
   "source": []
  },
  {
   "cell_type": "markdown",
   "metadata": {
    "collapsed": true
   },
   "source": [
    "** MÉTRICAS VARIETY **"
   ]
  },
  {
   "cell_type": "code",
   "execution_count": 39,
   "metadata": {},
   "outputs": [
    {
     "data": {
      "text/plain": [
       "[('colombia', 182),\n",
       " ('argentina', 6),\n",
       " ('mexico', 5),\n",
       " ('venezuela', 4),\n",
       " ('chile', 1),\n",
       " ('peru', 1),\n",
       " ('spain', 1)]"
      ]
     },
     "execution_count": 39,
     "metadata": {},
     "output_type": "execute_result"
    }
   ],
   "source": [
    "from collections import Counter\n",
    "\n",
    "c = Counter(predicted_variety_RF[400:600])\n",
    "\n",
    "c.most_common()"
   ]
  },
  {
   "cell_type": "code",
   "execution_count": 40,
   "metadata": {},
   "outputs": [
    {
     "name": "stdout",
     "output_type": "stream",
     "text": [
      "             precision    recall  f1-score   support\n",
      "\n",
      "  argentina       0.92      0.97      0.94       200\n",
      "      chile       0.96      0.95      0.96       200\n",
      "   colombia       0.90      0.91      0.90       200\n",
      "     mexico       0.86      0.93      0.89       200\n",
      "       peru       0.95      0.87      0.91       200\n",
      "      spain       0.91      0.94      0.93       200\n",
      "  venezuela       0.96      0.88      0.92       200\n",
      "\n",
      "avg / total       0.92      0.92      0.92      1400\n",
      "\n"
     ]
    }
   ],
   "source": [
    "from sklearn import metrics\n",
    "\n",
    "print(metrics.classification_report(x_test.variedad, predicted_variety_RF))"
   ]
  },
  {
   "cell_type": "code",
   "execution_count": 41,
   "metadata": {
    "collapsed": true
   },
   "outputs": [],
   "source": [
    "signos={',',';','!','?','.','(',')','\\'','\\\"',':'}"
   ]
  },
  {
   "cell_type": "code",
   "execution_count": 45,
   "metadata": {},
   "outputs": [
    {
     "name": "stdout",
     "output_type": "stream",
     "text": [
      "ANALYSIS.SENTIMENT\n",
      "Sentiment(polarity=0.0, subjectivity=0.0)\n",
      "ANALYSIS.TAGS\n",
      "[('es', 'NN'), ('muy', 'NN'), ('fuerte', 'NN'), ('lo', 'NN'), ('que', 'NN'), ('está', 'FW'), ('pasando', 'NN'), ('en', 'FW'), ('este', 'NN'), ('país', 'NN')]\n",
      "DIR(ANALYSIS)\n",
      "['__add__', '__class__', '__contains__', '__delattr__', '__dict__', '__dir__', '__doc__', '__eq__', '__format__', '__ge__', '__getattribute__', '__getitem__', '__gt__', '__hash__', '__init__', '__init_subclass__', '__iter__', '__le__', '__len__', '__lt__', '__module__', '__ne__', '__new__', '__reduce__', '__reduce_ex__', '__repr__', '__setattr__', '__sizeof__', '__str__', '__subclasshook__', '__weakref__', '_cmpkey', '_compare', '_create_sentence_objects', '_strkey', 'analyzer', 'classifier', 'classify', 'correct', 'detect_language', 'ends_with', 'endswith', 'find', 'format', 'index', 'join', 'json', 'lower', 'ngrams', 'noun_phrases', 'np_counts', 'np_extractor', 'parse', 'parser', 'polarity', 'pos_tagger', 'pos_tags', 'raw', 'raw_sentences', 'replace', 'rfind', 'rindex', 'sentences', 'sentiment', 'sentiment_assessments', 'serialized', 'split', 'starts_with', 'startswith', 'string', 'strip', 'stripped', 'subjectivity', 'tags', 'title', 'to_json', 'tokenize', 'tokenizer', 'tokens', 'translate', 'translator', 'upper', 'word_counts', 'words']\n"
     ]
    }
   ],
   "source": [
    "from textblob import TextBlob\n",
    " \n",
    "analysis = TextBlob(\"es muy fuerte lo que está pasando en este país\")\n",
    "print(\"ANALYSIS.SENTIMENT\")\n",
    "print(analysis.sentiment)\n",
    " \n",
    "print(\"ANALYSIS.TAGS\")\n",
    "print(analysis.tags)\n",
    "\n",
    "#print(\"ANALYSIS.TRANSLATE\")\n",
    "#print(analysis.translate(to='es'))\n",
    "\n",
    "print(\"DIR(ANALYSIS)\")\n",
    "print(dir(analysis))"
   ]
  },
  {
   "cell_type": "code",
   "execution_count": 85,
   "metadata": {},
   "outputs": [
    {
     "data": {
      "text/plain": [
       "<BigramTagger: size=49956>"
      ]
     },
     "execution_count": 85,
     "metadata": {},
     "output_type": "execute_result"
    }
   ],
   "source": [
    "import nltk\n",
    "from nltk.corpus import cess_esp as cess\n",
    "from nltk import UnigramTagger as ut\n",
    "from nltk import BigramTagger as bt\n",
    "cess_sents = cess.tagged_sents()\n",
    "uni_tag = ut(cess_sents)\n",
    "uni_tag.tag(x_train['tuits'][0].split(\" \"))\n",
    "train = int(len(cess_sents)*90/100) # 90%\n",
    "\n",
    "# Train a bigram tagger with only training data.\n",
    "bi_tag = bt(cess_sents[:train])\n",
    "\n",
    "# Evaluates on testing data remaining 10%\n",
    "bi_tag.evaluate(cess_sents[train+1:])\n",
    "\n",
    "# Using the tagger.\n",
    "bi_tag.tag(x_train['tuits'][0].split(\" \"))\n",
    "bi_tag"
   ]
  },
  {
   "cell_type": "code",
   "execution_count": 89,
   "metadata": {},
   "outputs": [
    {
     "data": {
      "text/plain": [
       "[('El', 'da0ms0'),\n",
       " ('grupo', 'ncms000'),\n",
       " ('estatal', 'aq0cs0'),\n",
       " ('Electricité_de_France', 'np00000'),\n",
       " ('-Fpa-', 'Fpa'),\n",
       " ('EDF', 'np00000'),\n",
       " ('-Fpt-', 'Fpt'),\n",
       " ('anunció', 'vmis3s0'),\n",
       " ('hoy', 'rg'),\n",
       " (',', 'Fc'),\n",
       " ('jueves', 'W'),\n",
       " (',', 'Fc'),\n",
       " ('la', 'da0fs0'),\n",
       " ('compra', 'ncfs000'),\n",
       " ('del', 'spcms'),\n",
       " ('51_por_ciento', 'Zp'),\n",
       " ('de', 'sps00'),\n",
       " ('la', 'da0fs0'),\n",
       " ('empresa', 'ncfs000'),\n",
       " ('mexicana', 'aq0fs0'),\n",
       " ('Electricidad_Águila_de_Altamira', 'np00000'),\n",
       " ('-Fpa-', 'Fpa'),\n",
       " ('EAA', 'np00000'),\n",
       " ('-Fpt-', 'Fpt'),\n",
       " (',', 'Fc'),\n",
       " ('creada', 'aq0fsp'),\n",
       " ('por', 'sps00'),\n",
       " ('el', 'da0ms0'),\n",
       " ('japonés', 'aq0ms0'),\n",
       " ('Mitsubishi_Corporation', 'np00000'),\n",
       " ('para', 'sps00'),\n",
       " ('poner_en_marcha', 'vmn0000'),\n",
       " ('una', 'di0fs0'),\n",
       " ('central', 'ncfs000'),\n",
       " ('de', 'sps00'),\n",
       " ('gas', 'ncms000'),\n",
       " ('de', 'sps00'),\n",
       " ('495', 'Z'),\n",
       " ('megavatios', 'ncmp000'),\n",
       " ('.', 'Fp')]"
      ]
     },
     "execution_count": 89,
     "metadata": {},
     "output_type": "execute_result"
    }
   ],
   "source": [
    "cess_sents[0]"
   ]
  },
  {
   "cell_type": "code",
   "execution_count": 70,
   "metadata": {},
   "outputs": [
    {
     "data": {
      "text/plain": [
       "'El perfil anti-Macri del anestesista acusado de violencia de genéro https://t.co/lYAG4PWmJiPobre... https://t.co/9MiDlT4ILmPara mí fu idea de ella. Siempre eligiendo \"buenos\" candidatos. https://t.co/hPPeBoFQNMA todos éstos los huevos les crecieron el 10/12/2015. Vergüenza ajena. https://t.co/yxBD2ph7cCQue empiecen por Jujuy. https://t.co/fCV1W1nULGFelicidades a los dos! Buen año! https://t.co/TrksqVzmaBUsar Kaotrina y tejido fino en las rejillas. https://t.co/QzeHrMnEUkLa impúdica desmemoria de Alberto Fernández | Perfil https://t.co/FYSDjEAHuICamara de diputados: Modificación de la Ley Sarmiento sobre Maltrato Animal Ley 14.346 https://t.co/UU6vumdfSN vía @ChangeorgARGrupo de tareas. https://t.co/T9g49VsLtl@dzapatillas Ya las vi. Son mâs gruesas, reutilizables. Aprobadas por el Gobierno.Alacranes: ¿por qué hay más ataques? ¿Qué comen? ¿Cómo entran a las casas? https://t.co/4JsVbL5QnP vía @LANACION @brenstrumImposible responder. De los 4, a 3 no los votaría nunca. https://t.co/gYZVV37vz2En Palermo! https://t.co/igBcMA0ULAIncreíble...leyeron e intrepretaron tantos clásicos de la literatura y terminaron así. https://t.co/RVklaBKKw728 años de gobiernos peronistas pero la culpa la tiene Macri. https://t.co/VtjNphRPMbCreo que todo estaba estudiado de antes y se solucionô. https://t.co/aokFjDkpEAMegacoima? Un vuelto para los k. https://t.co/THUA9IIApZEn este paìs siempre terminan ganando los malos por la inoperancia de los buenos. https://t.co/9Fr2CSalVLSe reprimen los ilìcitos. https://t.co/SLc8TwdJQqNo, lamentablente. https://t.co/8yOYqsqIifAndate vos!!!!Ya hiciste mucho daño! https://t.co/VkPHrNR1a2Que se dé una vuelta por el 2do y 3 er cordón del conurbano. https://t.co/9shAfLyNzmSi algo no necesita Dujovne es la plata de nuestros impuestos para irse de vacaciones. https://t.co/0gE4I3oj27Juicio Político a Alejandra Gils Carbó - ¡Firmá la Petición! https://t.co/KRBIhg1kgc vía @ChangeorgARY los 26 aviones hidrantes que compró la jefa??Son pescado podrido! https://t.co/bhMnqyl7SYEl \"hambre de Macri\" no le estaría funcionando... https://t.co/E0ob2iPMTUEl payaso payador contraataca. https://t.co/m4z2VqSF6eMonzó es peronista y punto. https://t.co/ed86S4XVYOEl \"hambre de Macri\" no se le nota . https://t.co/pBgv16L8ElBueno ,que les saquen los subsidios a las petroleras de su provincia. https://t.co/uugrpQfc0eFue una promesa de campaña de su socio Massa. Las redes le están jugando en contra a Margarita. https://t.co/xRmIjTVWgsEl mayor supervolcán de Europa está por despertar https://t.co/Etdu7K1GvsRechazan un pedido de \"inmediata libertad\" para Milagro Sala https://t.co/4ZbesGUIwx vía @LANACION@marcelalabarca Cuando muriô llorè tanto como cuando muriô mi papà en el 92, de algùn modo él ocupô el lugar de mi viejo por un tiempo.@ArielTrushtech Conozco el tema, para fin de año casi nos revoleamos el pan dulce y los turrones con un familiar.No es K, es progre argento.@ArielTrushtech Me tienen harta!Que defiendan la Revolución desde adentro, ahí les voy a creer sus convicciones.El medio pelo \"progre argento\" que defienden la Revolución con la Visa en una mano y el carnet de OSDE en la otra,… https://t.co/48FnttkIPgEl socio de CFK. https://t.co/yB09QPLrY9Karina Rabolini protagonizó un escándalo para despedir el año https://t.co/BpYv6FkyAM vía @expedientepolEn 2016 la Argentina consiguió 22 nuevos mercados para productos agropecuarios. https://t.co/kmQYOr02Ii@ezeiza0 Trabajadores somos todos.@ezeiza0 De un país destruido, saqueado y arruinado no se sale en un año. Bajen a la realidad.Que le pregunte a las víctimas de Milagro Sala y pase un día con ellas. Ahí sí puedo creer en su solidaridad y apeg… https://t.co/kVrJNjtYMTFue un ajuste de cuentas. https://t.co/quaLBb94RZ@ezeiza0 En los dos. Primero se baja la inflación y después se reactiva. En diciembre la inflación fue la más baja en los últimos 8 años.Juicio Político a Alejandra Gils Carbó - ¡Firma la petición! https://t.co/KRBIhg1kgc vía @ChangeorgARBochorno,es no escuchar a las vìctimas de Milagros Salas. De dônde venìs @NicolasdelCano https://t.co/H0vGkjIhFVEs asesor económico de la UCR hace mucho tiempo. No es K,, no es ñoqui.Trabaja y cobra. https://t.co/MmcuAfl6bp¿Quién escucha a las víctimas de Milagro Sala? https://t.co/hnQVJ9AWQL vía @LANACION @CrrobertsEl gran error de la naturaleza. https://t.co/MbyDunSdulAhhhh bueno!! Se despertô de su largo sueño...dônde estaba en los 90? Pum para arriba!!!Forro! https://t.co/5L64NeQwCzBasta ya, por favor. Internent terminó con todos los mitos peronistas. https://t.co/FsIDU9bquQDe premios nóbeles a ésto...la decadencia. https://t.co/aCZPT8kGxoPor suerte, nunca sacan más de 4 votos. https://t.co/HguLF8SeNiBuscando el conflicto y la represión. Son de manual. https://t.co/0n3JMvXw7rProvocación=reacción. Estos tipos son de manual, aún no se enteraron que Google monitorea todo. https://t.co/hvli2JrjzdCorruptos que defienden corruptos, nada nuevo. Metodología K. https://t.co/SGZSAM0YqkNo debe reaccionar, debe esperar que todo se vaya decantando. Jamás entrar en su juego violento. https://t.co/k7cNi7WIaaNo se desentiende, espera. Muy bien en no darles el gusto del conflicto y el muerto tan esperado para romper todo. https://t.co/TvCDQTduE3Quieren pero no pueden. https://t.co/FNRBFsv8O6Clonazepaneada, diría yo. https://t.co/WNXyCy5If0Macri es mucho más inteligente que todos los sindicalistas juntos. https://t.co/DOiPwUvx7zQuién pagó la encuesta? https://t.co/PYJJ8qM9UG@BIOTECH_SI Buenas noches, cómo puedo eliminar a la \"cochinilla algodonera\" ? Está haciendo estragos con mis flores.@mrgr2011 @todonoticias @miguelapichetto Ahora es el Belgrano del siglo XXI...mamita!Aprobaban todo a libro cerrado y ahora dan cátedra.SOSLos que se rasgan las vestiduras por los laburantes hacen paros para joderle la vida a los laburantes. 48% de traba… https://t.co/lD6NHLxMfh#AbranLaDenunciaDeNismanMirá quién habla! Ahora son todos guapos! https://t.co/R5Yj7IBx5ZPara cuándo el \"derecho de pernada\" en San Luis? https://t.co/j42PnCBaY1@alferdez Ojalà los polìticos, de ahora en màs, estén a la altura de las circunstancias y del paìs maravilloso que tenemos...ojalà.Yo no, doctor. La realidad de un paìs destruìdo deberìa callarlos. https://t.co/KUDQKvbezVLlamate a silencio, por Dios. https://t.co/l4OUkWaSjTNo se puede creer...ensuciar a Margarita Barrientos es muy bajo. https://t.co/VqxVCmeya8Churchill argento, piensa en las prôximas elecciones, jamàs en las prôximas generaciones https://t.co/ZvLKSA6z5HNuestro Churchill argento @SergioMassa propone pensar en las próximas elecciones y jamás en las próximas generacion… https://t.co/7asZtJc5Y5Magario se lo adjudica. https://t.co/685kJinyToDas Neves está mal, muy mal. Ese tono de voz me trae malos recuerdos... https://t.co/fVAxJJJTnbBarrios de Pie es el brazo armado de Libres del Sur... https://t.co/5ReAX9QNcZ@hhdospierreCômo ve lo de Margarita?Buenìsimas! Aquì, en CABA! https://t.co/hD4xVVXiYpMacri debe tener un plan para ir pasándolos al trabajo formal, creo. https://t.co/oPObYWQyehLa derecha invade Europa...terrible. https://t.co/87MYRcYcN8@martagaba Jajajajajajaja!!!!El hermanito menor!Despuès de 12 años de kirchnerismo quieren soluciones en 12 meses.#Mediocres https://t.co/NV78YcVB5hPeriodistas K y periodistas \"independientes\" con el mismo empeño. https://t.co/4HjzVmtb2JQue vengan primero a informarse, estàn invitados por el Gobierno. https://t.co/XFiPgyuwXBQuiénes los mandaron? https://t.co/rbFVkiSwrnUna causa eléctrica, como dice Longobardi. https://t.co/NusP4hBd64Madres a los 14, abuelas a los 30 y bisabuelas a los 45. Pasará en Finlandia? https://t.co/zwOKnEtTpFVamos por todo, compañero!! https://t.co/4vvNyxWcVuBonadio tiene \"todo listo\" para buscar a Cristina con la fuerza pública  - Vía @PoliticaClarin -  https://t.co/sHW2ZASbOATendrá data? Siempre fue un gran bocón. El cristinismo le habrá adelantado lo planeado para diciembre? https://t.co/DLti8oC9oaExitosa abogada y no conoce los pasos procesales de un juicio? Paso a paso se entierra sola y Beraldi la acompaña e… https://t.co/dXoT3rI0M6El peronismo feudal no tiene en cuenta: internet, google y 60 millones de celulares en el país. La sociedad los mir… https://t.co/pdmvPilbLmSu le gana a Lanata por paliza...es lo que hay. https://t.co/PRD5mJsIK4Atraso de 60 años!! https://t.co/cNZOUke74m9\\xa0Meses de\\xa0embarazo en\\xa0tan solo 4\\xa0minutos https://t.co/56OUdON9ny vía @genial_guru@Pulpitis60 @seaviscuit Carolina Stanley no se rasca. Està haciendo un trabajo impresionante.Esto es mucho!! https://t.co/deWjYMwO3M'"
      ]
     },
     "execution_count": 70,
     "metadata": {},
     "output_type": "execute_result"
    }
   ],
   "source": [
    "x_train['tuits'][0]"
   ]
  },
  {
   "cell_type": "markdown",
   "metadata": {},
   "source": [
    "jupyter notebook --NotebookApp.iopub_data_rate_limit=10000000000\n"
   ]
  },
  {
   "cell_type": "code",
   "execution_count": 51,
   "metadata": {
    "collapsed": true
   },
   "outputs": [],
   "source": []
  },
  {
   "cell_type": "code",
   "execution_count": null,
   "metadata": {
    "collapsed": true
   },
   "outputs": [],
   "source": []
  },
  {
   "cell_type": "code",
   "execution_count": null,
   "metadata": {
    "collapsed": true
   },
   "outputs": [],
   "source": []
  },
  {
   "cell_type": "code",
   "execution_count": null,
   "metadata": {
    "collapsed": true
   },
   "outputs": [],
   "source": []
  },
  {
   "cell_type": "code",
   "execution_count": null,
   "metadata": {
    "collapsed": true
   },
   "outputs": [],
   "source": []
  },
  {
   "cell_type": "code",
   "execution_count": 251,
   "metadata": {},
   "outputs": [
    {
     "name": "stdout",
     "output_type": "stream",
     "text": [
      "5\n",
      "11.718930554164631\n",
      "0.6155602359275459\n"
     ]
    }
   ],
   "source": [
    "import statistics as stats\n",
    "import scipy\n",
    "\n",
    "prueba=pd.DataFrame(columns=[1,2,3])\n",
    "\n",
    "prueba.loc[0] = [34,52,1]\n",
    "prueba.loc[1] = [21,31,0]\n",
    "prueba\n",
    "prueba.loc[2] = [23,21,[23,1,5]]\n",
    "\n",
    "print(stats.median(prueba.loc[2][3]))\n",
    "print(stats.stdev(prueba.loc[2][3]))\n",
    "print(scipy.stats.skew(prueba.loc[2][3]))\n",
    "\n",
    "\n"
   ]
  },
  {
   "cell_type": "code",
   "execution_count": null,
   "metadata": {
    "collapsed": true
   },
   "outputs": [],
   "source": []
  },
  {
   "cell_type": "code",
   "execution_count": null,
   "metadata": {
    "collapsed": true
   },
   "outputs": [],
   "source": []
  },
  {
   "cell_type": "code",
   "execution_count": null,
   "metadata": {
    "collapsed": true
   },
   "outputs": [],
   "source": []
  },
  {
   "cell_type": "code",
   "execution_count": null,
   "metadata": {
    "collapsed": true
   },
   "outputs": [],
   "source": []
  },
  {
   "cell_type": "code",
   "execution_count": null,
   "metadata": {
    "collapsed": true
   },
   "outputs": [],
   "source": []
  },
  {
   "cell_type": "code",
   "execution_count": null,
   "metadata": {
    "collapsed": true
   },
   "outputs": [],
   "source": []
  },
  {
   "cell_type": "code",
   "execution_count": null,
   "metadata": {
    "collapsed": true
   },
   "outputs": [],
   "source": []
  }
 ],
 "metadata": {
  "kernelspec": {
   "display_name": "Python 3",
   "language": "python",
   "name": "python3"
  },
  "language_info": {
   "codemirror_mode": {
    "name": "ipython",
    "version": 3
   },
   "file_extension": ".py",
   "mimetype": "text/x-python",
   "name": "python",
   "nbconvert_exporter": "python",
   "pygments_lexer": "ipython3",
   "version": "3.6.2"
  }
 },
 "nbformat": 4,
 "nbformat_minor": 2
}
