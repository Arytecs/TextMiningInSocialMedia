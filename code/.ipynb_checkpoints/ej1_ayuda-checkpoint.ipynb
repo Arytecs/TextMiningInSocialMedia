{
 "cells": [
  {
   "cell_type": "code",
   "execution_count": 1,
   "metadata": {
    "collapsed": true
   },
   "outputs": [],
   "source": [
    "cadena_frase=\"El/DT perro/N come/V carne/N de/P la/DT carnicería/N  y/C de/P la/DT nevera/N y/C canta/V el/DT la/N la/N la/N ./Fp\""
   ]
  },
  {
   "cell_type": "code",
   "execution_count": 2,
   "metadata": {},
   "outputs": [
    {
     "name": "stdout",
     "output_type": "stream",
     "text": [
      "El/DT perro/N come/V carne/N de/P la/DT carnicería/N  y/C de/P la/DT nevera/N y/C canta/V el/DT la/N la/N la/N ./Fp\n"
     ]
    }
   ],
   "source": [
    "print(cadena_frase)"
   ]
  },
  {
   "cell_type": "code",
   "execution_count": 3,
   "metadata": {
    "collapsed": true
   },
   "outputs": [],
   "source": [
    "L=[x.split('/') for x in cadena_frase.split()]\n",
    "#L=[(pal,pos) for (pal,pos) in [x.split('/') for x in cadena_frase.split()]]"
   ]
  },
  {
   "cell_type": "code",
   "execution_count": 4,
   "metadata": {},
   "outputs": [
    {
     "name": "stdout",
     "output_type": "stream",
     "text": [
      "[['El', 'DT'], ['perro', 'N'], ['come', 'V'], ['carne', 'N'], ['de', 'P'], ['la', 'DT'], ['carnicería', 'N'], ['y', 'C'], ['de', 'P'], ['la', 'DT'], ['nevera', 'N'], ['y', 'C'], ['canta', 'V'], ['el', 'DT'], ['la', 'N'], ['la', 'N'], ['la', 'N'], ['.', 'Fp']]\n"
     ]
    }
   ],
   "source": [
    "print (L)"
   ]
  },
  {
   "cell_type": "code",
   "execution_count": 5,
   "metadata": {},
   "outputs": [
    {
     "name": "stdout",
     "output_type": "stream",
     "text": [
      "DT N V N P DT N C P DT N C V DT N N N Fp \n",
      "POS= ['DT', 'N', 'V', 'N', 'P', 'DT', 'N', 'C', 'P', 'DT', 'N', 'C', 'V', 'DT', 'N', 'N', 'N', 'Fp']\n"
     ]
    }
   ],
   "source": [
    "POS=[]\n",
    "for pal,pos in L:\n",
    "    print(pos, end=\" \")\n",
    "    POS.append(pos)\n",
    "print (\"\\nPOS=\",POS)    "
   ]
  },
  {
   "cell_type": "code",
   "execution_count": 6,
   "metadata": {},
   "outputs": [
    {
     "name": "stdout",
     "output_type": "stream",
     "text": [
      "C : 2\n",
      "DT : 4\n",
      "Fp : 1\n",
      "N : 7\n",
      "P : 2\n",
      "V : 2\n",
      "TOTAL: 18\n"
     ]
    }
   ],
   "source": [
    "dic = {x:POS.count(x) for x in set(POS)}\n",
    "for x in sorted(dic):\n",
    "    print(x,\":\",dic[x])\n",
    "print (\"TOTAL:\",sum(dic.values()))"
   ]
  },
  {
   "cell_type": "code",
   "execution_count": 7,
   "metadata": {},
   "outputs": [
    {
     "name": "stdout",
     "output_type": "stream",
     "text": [
      "{'N': 7, 'V': 2, 'DT': 4, 'P': 2, 'Fp': 1, 'C': 2}\n"
     ]
    }
   ],
   "source": [
    "d_c={}\n",
    "for cat in POS:\n",
    "    d_c[cat]=1+d_c.get(cat,0)\n",
    "print(d_c)    "
   ]
  },
  {
   "cell_type": "code",
   "execution_count": null,
   "metadata": {
    "collapsed": true
   },
   "outputs": [],
   "source": []
  }
 ],
 "metadata": {
  "kernelspec": {
   "display_name": "Python 3",
   "language": "python",
   "name": "python3"
  },
  "language_info": {
   "codemirror_mode": {
    "name": "ipython",
    "version": 3
   },
   "file_extension": ".py",
   "mimetype": "text/x-python",
   "name": "python",
   "nbconvert_exporter": "python",
   "pygments_lexer": "ipython3",
   "version": "3.6.2"
  }
 },
 "nbformat": 4,
 "nbformat_minor": 1
}
