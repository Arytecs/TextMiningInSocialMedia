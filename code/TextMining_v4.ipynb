{
 "cells": [
  {
   "cell_type": "markdown",
   "metadata": {},
   "source": [
    "# TEST"
   ]
  },
  {
   "cell_type": "code",
   "execution_count": 1,
   "metadata": {},
   "outputs": [
    {
     "name": "stdout",
     "output_type": "stream",
     "text": [
      "{'male': 700, 'female': 700} {'colombia': 200, 'argentina': 200, 'spain': 200, 'venezuela': 200, 'peru': 200, 'chile': 200, 'mexico': 200} 1400\n"
     ]
    }
   ],
   "source": [
    "# OBTENEMOS UN DICCIONARIO (ids_test) CON LOS IDS DE USUARIO POR VARIEDAD Y SEXO\n",
    "\n",
    "f = open('./PAN-AP/test/truth.txt')\n",
    "\n",
    "contador=0\n",
    "sexo={'male':0,'female':0}\n",
    "variedades={'colombia':0,'argentina':0,'spain':0,'venezuela':0,'peru':0,'chile':0,'mexico':0}\n",
    "\n",
    "ids_test={'colombia':{'male':[],'female':[]},'argentina':{'male':[],'female':[]},'spain':{'male':[],'female':[]}, \\\n",
    "     'venezuela':{'male':[],'female':[]},'peru':{'male':[],'female':[]},'chile':{'male':[],'female':[]}, \\\n",
    "     'mexico':{'male':[],'female':[]}}\n",
    "\n",
    "#print(len(f.readlines()))\n",
    "\n",
    "for line in f:\n",
    "    line=line.rstrip()\n",
    "    if len(line)==0:\n",
    "        continue\n",
    "    lista=line.split(':::')\n",
    "    \n",
    "    ids_test[lista[2]][lista[1]].append(lista[0])\n",
    "    \n",
    "    sexo[lista[1]] += 1\n",
    "    variedades[lista[2]] += 1\n",
    "    contador+=1\n",
    "\n",
    "print(sexo,variedades,contador)\n"
   ]
  },
  {
   "cell_type": "code",
   "execution_count": 2,
   "metadata": {},
   "outputs": [
    {
     "name": "stdout",
     "output_type": "stream",
     "text": [
      "{'male': 1400, 'female': 1400} {'colombia': 400, 'argentina': 400, 'spain': 400, 'venezuela': 400, 'peru': 400, 'chile': 400, 'mexico': 400} 2800\n"
     ]
    }
   ],
   "source": [
    "# OBTENEMOS UN DICCIONARIO (ids_train) CON LOS IDS DE USUARIO POR VARIEDAD Y SEXO\n",
    "\n",
    "f = open('./PAN-AP/training/truth.txt')\n",
    "\n",
    "contador=0\n",
    "sexo={'male':0,'female':0}\n",
    "variedades={'colombia':0,'argentina':0,'spain':0,'venezuela':0,'peru':0,'chile':0,'mexico':0}\n",
    "\n",
    "ids_train={'colombia':{'male':[],'female':[]},'argentina':{'male':[],'female':[]},'spain':{'male':[],'female':[]}, \\\n",
    "     'venezuela':{'male':[],'female':[]},'peru':{'male':[],'female':[]},'chile':{'male':[],'female':[]}, \\\n",
    "     'mexico':{'male':[],'female':[]}}\n",
    "\n",
    "#print(len(f.readlines()))\n",
    "\n",
    "for line in f:\n",
    "    line=line.rstrip()\n",
    "    if len(line)==0:\n",
    "        continue\n",
    "    lista=line.split(':::')\n",
    "    \n",
    "    ids_train[lista[2]][lista[1]].append(lista[0])\n",
    "    \n",
    "    sexo[lista[1]] += 1\n",
    "    variedades[lista[2]] += 1\n",
    "    contador+=1\n",
    "\n",
    "print(sexo,variedades,contador)"
   ]
  },
  {
   "cell_type": "code",
   "execution_count": 13,
   "metadata": {
    "collapsed": true
   },
   "outputs": [],
   "source": [
    "# FUNCIÓN QUE DEVUELVE UNA LISTA CON LOS TUITS DE UN ID DE USUARIO\n",
    "\n",
    "def leer_tuits(id,particion):\n",
    "    if particion == 'train':\n",
    "        s='./PAN-AP/training/' + id + '.xml'\n",
    "    else:\n",
    "        s='./PAN-AP/test/' + id + '.xml'\n",
    "    f=open(s)\n",
    "    tuits=list()\n",
    "    for line in f:\n",
    "        line=line.rstrip()\n",
    "        if line.find('<document><![CDATA[') != -1:\n",
    "            line=line[21:-14]\n",
    "            tuits.append(line)\n",
    "    return tuits\n",
    "\n",
    "def leer_tuits_string(id,particion):\n",
    "    if particion == 'train':\n",
    "        s='./PAN-AP/training/' + id + '.xml'\n",
    "    else:\n",
    "        s='./PAN-AP/test/' + id + '.xml'\n",
    "    f=open(s)\n",
    "    tuits=list()\n",
    "    for line in f:\n",
    "        line=line.rstrip()\n",
    "        if line.find('<document><![CDATA[') != -1:\n",
    "            line=line[21:-14]\n",
    "            tuits.append(line)\n",
    "    return flatstring(tuits)\n",
    "\n",
    "def leer_tuits_longitud(id,particion):\n",
    "    if particion == 'train':\n",
    "        s='./PAN-AP/training/' + id + '.xml'\n",
    "    else:\n",
    "        s='./PAN-AP/test/' + id + '.xml'\n",
    "    f=open(s)\n",
    "    longitudes=list()\n",
    "    for line in f:\n",
    "        line=line.rstrip()\n",
    "        if line.find('<document><![CDATA[') != -1:\n",
    "            line=line[21:-14]\n",
    "            longitudes.append(len(line))\n",
    "    return longitudes\n"
   ]
  },
  {
   "cell_type": "code",
   "execution_count": 4,
   "metadata": {},
   "outputs": [
    {
     "data": {
      "text/plain": [
       "[1, 2, 3, 4, 5, 6]"
      ]
     },
     "execution_count": 4,
     "metadata": {},
     "output_type": "execute_result"
    }
   ],
   "source": [
    "# FUNCIÓN QUE CONVIERTE UNA list[list] en list\n",
    "\n",
    "def flatlist(lista):\n",
    "    flatlist=list()\n",
    "    for sublista in lista:\n",
    "        for item in sublista:\n",
    "            flatlist.append(item)\n",
    "    return flatlist\n",
    "\n",
    "flatlist([[1,2],[3],[4,5,6]])"
   ]
  },
  {
   "cell_type": "code",
   "execution_count": 5,
   "metadata": {
    "collapsed": true
   },
   "outputs": [],
   "source": [
    "def flatstring(lista):\n",
    "    s=\"\"\n",
    "    for item in lista:\n",
    "        s+=item\n",
    "    return s\n",
    "\n"
   ]
  },
  {
   "cell_type": "code",
   "execution_count": 6,
   "metadata": {
    "collapsed": true
   },
   "outputs": [],
   "source": [
    "# FUNCIÓN QUE DEVUELVE UNA LISTA CON LOS TUITS DE UNA VARIEDAD Y UN SEXO DADOS\n",
    "\n",
    "def obtener_tuits(ids,variedad,sexo,particion):\n",
    "    tuits=list()\n",
    "    for id in ids[variedad][sexo]:\n",
    "        tuits.append(leer_tuits(id,particion))\n",
    "    tuits=flatlist(tuits)\n",
    "    return tuits\n",
    "     \n",
    "def obtener_tuits_string(ids,variedad,sexo,particion):\n",
    "    tuits=list()\n",
    "    for id in ids[variedad][sexo]:\n",
    "        tuits.append(leer_tuits_string(id,particion))\n",
    "    #tuits=flatlist(tuits)\n",
    "    return tuits"
   ]
  },
  {
   "cell_type": "code",
   "execution_count": 7,
   "metadata": {
    "collapsed": true
   },
   "outputs": [],
   "source": [
    "variedades_lista = ['argentina', 'chile', 'colombia', 'mexico', 'peru', 'spain', 'venezuela']\n",
    "sexo_lista = ['female','male']\n",
    "variedades_lista_numero = {'argentina':1, 'chile':2, 'colombia': 3, 'mexico': 4, 'peru': 5, 'spain': 6, 'venezuela':7}"
   ]
  },
  {
   "cell_type": "markdown",
   "metadata": {},
   "source": [
    "**intentamos quedarnos con solo los tuits de cada variedad para que luego pueda calcular la tf_idf según variedad**"
   ]
  },
  {
   "cell_type": "code",
   "execution_count": 14,
   "metadata": {},
   "outputs": [
    {
     "name": "stdout",
     "output_type": "stream",
     "text": [
      "argentina\n",
      "\t female 200\n",
      "\t male 200\n",
      "400\n",
      "chile\n",
      "\t female 200\n",
      "\t male 200\n",
      "400\n",
      "colombia\n",
      "\t female 200\n",
      "\t male 200\n",
      "400\n",
      "mexico\n",
      "\t female 200\n",
      "\t male 200\n",
      "400\n",
      "peru\n",
      "\t female 200\n",
      "\t male 200\n",
      "400\n",
      "spain\n",
      "\t female 200\n",
      "\t male 200\n",
      "400\n",
      "venezuela\n",
      "\t female 200\n",
      "\t male 200\n",
      "400\n"
     ]
    }
   ],
   "source": [
    "import pandas as pd\n",
    "\n",
    "x_train = pd.DataFrame(columns = ['tuits','sexo','variedad'])\n",
    "\n",
    "# cada fila será un usuario del train. En total debe haber 2800 filas.\n",
    "\n",
    "i=0\n",
    "for variedad in variedades_lista:\n",
    "    v=0\n",
    "    print(variedad)\n",
    "    for sexo in sexo_lista:\n",
    "        s=0\n",
    "        for id in ids_train[variedad][sexo]:\n",
    "            t = leer_tuits_longitud(id,'train')\n",
    "            x_train.loc[i] = [t,sexo,variedad]\n",
    "            i+=1\n",
    "            v+=1\n",
    "            s+=1\n",
    "        print(\"\\t\",sexo,s)\n",
    "    print(v)\n"
   ]
  },
  {
   "cell_type": "code",
   "execution_count": 81,
   "metadata": {},
   "outputs": [
    {
     "data": {
      "text/html": [
       "<div>\n",
       "<style scoped>\n",
       "    .dataframe tbody tr th:only-of-type {\n",
       "        vertical-align: middle;\n",
       "    }\n",
       "\n",
       "    .dataframe tbody tr th {\n",
       "        vertical-align: top;\n",
       "    }\n",
       "\n",
       "    .dataframe thead th {\n",
       "        text-align: right;\n",
       "    }\n",
       "</style>\n",
       "<table border=\"1\" class=\"dataframe\">\n",
       "  <thead>\n",
       "    <tr style=\"text-align: right;\">\n",
       "      <th></th>\n",
       "      <th>tuits</th>\n",
       "      <th>sexo</th>\n",
       "      <th>variedad</th>\n",
       "      <th>mean</th>\n",
       "      <th>median</th>\n",
       "      <th>std</th>\n",
       "      <th>skewness</th>\n",
       "    </tr>\n",
       "  </thead>\n",
       "  <tbody>\n",
       "    <tr>\n",
       "      <th>0</th>\n",
       "      <td>[91, 32, 87, 94, 47, 56, 68, 76, 127, 40, 82, ...</td>\n",
       "      <td>female</td>\n",
       "      <td>argentina</td>\n",
       "      <td>85.16</td>\n",
       "      <td>87.5</td>\n",
       "      <td>32.143843</td>\n",
       "      <td>0.106207</td>\n",
       "    </tr>\n",
       "    <tr>\n",
       "      <th>1</th>\n",
       "      <td>[62, 40, 39, 66, 55, 41, 72, 59, 76, 103, 76, ...</td>\n",
       "      <td>female</td>\n",
       "      <td>argentina</td>\n",
       "      <td>63.47</td>\n",
       "      <td>55.5</td>\n",
       "      <td>23.780331</td>\n",
       "      <td>0.709803</td>\n",
       "    </tr>\n",
       "    <tr>\n",
       "      <th>2</th>\n",
       "      <td>[55, 61, 22, 28, 28, 71, 25, 24, 32, 70, 33, 6...</td>\n",
       "      <td>female</td>\n",
       "      <td>argentina</td>\n",
       "      <td>38.10</td>\n",
       "      <td>32.0</td>\n",
       "      <td>23.456601</td>\n",
       "      <td>1.556400</td>\n",
       "    </tr>\n",
       "    <tr>\n",
       "      <th>3</th>\n",
       "      <td>[58, 79, 75, 45, 18, 139, 54, 46, 73, 68, 90, ...</td>\n",
       "      <td>female</td>\n",
       "      <td>argentina</td>\n",
       "      <td>60.56</td>\n",
       "      <td>56.0</td>\n",
       "      <td>29.102161</td>\n",
       "      <td>0.717457</td>\n",
       "    </tr>\n",
       "    <tr>\n",
       "      <th>4</th>\n",
       "      <td>[39, 25, 78, 36, 54, 123, 114, 70, 85, 55, 89,...</td>\n",
       "      <td>female</td>\n",
       "      <td>argentina</td>\n",
       "      <td>74.02</td>\n",
       "      <td>68.0</td>\n",
       "      <td>35.923876</td>\n",
       "      <td>0.385561</td>\n",
       "    </tr>\n",
       "    <tr>\n",
       "      <th>5</th>\n",
       "      <td>[119, 66, 129, 133, 77, 84, 107, 52, 75, 83, 1...</td>\n",
       "      <td>female</td>\n",
       "      <td>argentina</td>\n",
       "      <td>76.75</td>\n",
       "      <td>72.5</td>\n",
       "      <td>37.675482</td>\n",
       "      <td>0.221802</td>\n",
       "    </tr>\n",
       "    <tr>\n",
       "      <th>6</th>\n",
       "      <td>[67, 126, 55, 43, 46, 54, 33, 24, 60, 63, 31, ...</td>\n",
       "      <td>female</td>\n",
       "      <td>argentina</td>\n",
       "      <td>60.24</td>\n",
       "      <td>57.0</td>\n",
       "      <td>29.608257</td>\n",
       "      <td>0.842735</td>\n",
       "    </tr>\n",
       "    <tr>\n",
       "      <th>7</th>\n",
       "      <td>[138, 101, 45, 62, 74, 84, 133, 110, 134, 140,...</td>\n",
       "      <td>female</td>\n",
       "      <td>argentina</td>\n",
       "      <td>73.99</td>\n",
       "      <td>73.0</td>\n",
       "      <td>50.456201</td>\n",
       "      <td>-0.037711</td>\n",
       "    </tr>\n",
       "    <tr>\n",
       "      <th>8</th>\n",
       "      <td>[137, 67, 68, 76, 91, 107, 92, 35, 69, 133, 4,...</td>\n",
       "      <td>female</td>\n",
       "      <td>argentina</td>\n",
       "      <td>75.97</td>\n",
       "      <td>69.0</td>\n",
       "      <td>36.419957</td>\n",
       "      <td>0.283163</td>\n",
       "    </tr>\n",
       "    <tr>\n",
       "      <th>9</th>\n",
       "      <td>[131, 82, 62, 19, 52, 99, 27, 105, 61, 73, 80,...</td>\n",
       "      <td>female</td>\n",
       "      <td>argentina</td>\n",
       "      <td>84.67</td>\n",
       "      <td>81.0</td>\n",
       "      <td>34.431620</td>\n",
       "      <td>0.111638</td>\n",
       "    </tr>\n",
       "    <tr>\n",
       "      <th>10</th>\n",
       "      <td>[72, 52, 110, 47, 117, 65, 57, 67, 124, 70, 35...</td>\n",
       "      <td>female</td>\n",
       "      <td>argentina</td>\n",
       "      <td>69.34</td>\n",
       "      <td>65.0</td>\n",
       "      <td>20.996498</td>\n",
       "      <td>0.813515</td>\n",
       "    </tr>\n",
       "  </tbody>\n",
       "</table>\n",
       "</div>"
      ],
      "text/plain": [
       "                                                tuits    sexo   variedad  \\\n",
       "0   [91, 32, 87, 94, 47, 56, 68, 76, 127, 40, 82, ...  female  argentina   \n",
       "1   [62, 40, 39, 66, 55, 41, 72, 59, 76, 103, 76, ...  female  argentina   \n",
       "2   [55, 61, 22, 28, 28, 71, 25, 24, 32, 70, 33, 6...  female  argentina   \n",
       "3   [58, 79, 75, 45, 18, 139, 54, 46, 73, 68, 90, ...  female  argentina   \n",
       "4   [39, 25, 78, 36, 54, 123, 114, 70, 85, 55, 89,...  female  argentina   \n",
       "5   [119, 66, 129, 133, 77, 84, 107, 52, 75, 83, 1...  female  argentina   \n",
       "6   [67, 126, 55, 43, 46, 54, 33, 24, 60, 63, 31, ...  female  argentina   \n",
       "7   [138, 101, 45, 62, 74, 84, 133, 110, 134, 140,...  female  argentina   \n",
       "8   [137, 67, 68, 76, 91, 107, 92, 35, 69, 133, 4,...  female  argentina   \n",
       "9   [131, 82, 62, 19, 52, 99, 27, 105, 61, 73, 80,...  female  argentina   \n",
       "10  [72, 52, 110, 47, 117, 65, 57, 67, 124, 70, 35...  female  argentina   \n",
       "\n",
       "     mean  median        std  skewness  \n",
       "0   85.16    87.5  32.143843  0.106207  \n",
       "1   63.47    55.5  23.780331  0.709803  \n",
       "2   38.10    32.0  23.456601  1.556400  \n",
       "3   60.56    56.0  29.102161  0.717457  \n",
       "4   74.02    68.0  35.923876  0.385561  \n",
       "5   76.75    72.5  37.675482  0.221802  \n",
       "6   60.24    57.0  29.608257  0.842735  \n",
       "7   73.99    73.0  50.456201 -0.037711  \n",
       "8   75.97    69.0  36.419957  0.283163  \n",
       "9   84.67    81.0  34.431620  0.111638  \n",
       "10  69.34    65.0  20.996498  0.813515  "
      ]
     },
     "execution_count": 81,
     "metadata": {},
     "output_type": "execute_result"
    }
   ],
   "source": [
    "x_train.loc[0:10]"
   ]
  },
  {
   "cell_type": "code",
   "execution_count": 47,
   "metadata": {
    "collapsed": true
   },
   "outputs": [],
   "source": [
    "import statistics as stats\n",
    "from scipy import stats as sc\n",
    "\n",
    "for i in range(2800):\n",
    "    x_train.loc[i, 'mean'] = stats.mean(x_train.loc[i]['tuits'])\n",
    "    x_train.loc[i, 'median'] = stats.median(x_train.loc[i]['tuits'])\n",
    "    x_train.loc[i, 'std'] = stats.stdev(x_train.loc[i]['tuits'])\n",
    "    x_train.loc[i, 'skewness'] = sc.skew(x_train.loc[i]['tuits'])\n"
   ]
  },
  {
   "cell_type": "code",
   "execution_count": null,
   "metadata": {
    "collapsed": true
   },
   "outputs": [],
   "source": []
  },
  {
   "cell_type": "code",
   "execution_count": null,
   "metadata": {
    "collapsed": true
   },
   "outputs": [],
   "source": []
  },
  {
   "cell_type": "code",
   "execution_count": 60,
   "metadata": {
    "collapsed": true
   },
   "outputs": [
    {
     "name": "stdout",
     "output_type": "stream",
     "text": [
      "argentina\n",
      "\t female 100\n",
      "\t male 100\n",
      "200\n",
      "chile\n",
      "\t female 100\n",
      "\t male 100\n",
      "200\n",
      "colombia\n",
      "\t female 100\n",
      "\t male 100\n",
      "200\n",
      "mexico\n",
      "\t female 100\n",
      "\t male 100\n",
      "200\n",
      "peru\n",
      "\t female 100\n",
      "\t male 100\n",
      "200\n",
      "spain\n",
      "\t female 100\n",
      "\t male 100\n",
      "200\n",
      "venezuela\n",
      "\t female 100\n",
      "\t male 100\n",
      "200\n"
     ]
    }
   ],
   "source": [
    "# USUARIOS DE TEST\n",
    "\n",
    "import pandas as pd\n",
    "\n",
    "x_test = pd.DataFrame(columns = ['tuits','sexo','variedad'])\n",
    "\n",
    "# cada fila será un usuario del train. En total debe haber 2800 filas.\n",
    "\n",
    "i=0\n",
    "for variedad in variedades_lista:\n",
    "    v=0\n",
    "    print(variedad)\n",
    "    for sexo in sexo_lista:\n",
    "        s=0\n",
    "        for id in ids_test[variedad][sexo]:\n",
    "            t = leer_tuits_longitud(id,'test')\n",
    "            x_test.loc[i] = [t,sexo,variedad]\n",
    "            i+=1\n",
    "            v+=1\n",
    "            s+=1\n",
    "        print(\"\\t\",sexo,s)\n",
    "    print(v)"
   ]
  },
  {
   "cell_type": "code",
   "execution_count": 63,
   "metadata": {},
   "outputs": [
    {
     "data": {
      "text/html": [
       "<div>\n",
       "<style scoped>\n",
       "    .dataframe tbody tr th:only-of-type {\n",
       "        vertical-align: middle;\n",
       "    }\n",
       "\n",
       "    .dataframe tbody tr th {\n",
       "        vertical-align: top;\n",
       "    }\n",
       "\n",
       "    .dataframe thead th {\n",
       "        text-align: right;\n",
       "    }\n",
       "</style>\n",
       "<table border=\"1\" class=\"dataframe\">\n",
       "  <thead>\n",
       "    <tr style=\"text-align: right;\">\n",
       "      <th></th>\n",
       "      <th>tuits</th>\n",
       "      <th>sexo</th>\n",
       "      <th>variedad</th>\n",
       "      <th>mean</th>\n",
       "      <th>median</th>\n",
       "      <th>std</th>\n",
       "      <th>skewness</th>\n",
       "    </tr>\n",
       "  </thead>\n",
       "  <tbody>\n",
       "    <tr>\n",
       "      <th>198</th>\n",
       "      <td>[43, 68, 116, 61, 121, 138, 82, 87, 50, 140, 1...</td>\n",
       "      <td>male</td>\n",
       "      <td>argentina</td>\n",
       "      <td>82.79</td>\n",
       "      <td>76.5</td>\n",
       "      <td>34.587700</td>\n",
       "      <td>0.285453</td>\n",
       "    </tr>\n",
       "    <tr>\n",
       "      <th>199</th>\n",
       "      <td>[63, 14, 17, 39, 11, 25, 39, 55, 44, 0, 100, 3...</td>\n",
       "      <td>male</td>\n",
       "      <td>argentina</td>\n",
       "      <td>53.78</td>\n",
       "      <td>52.0</td>\n",
       "      <td>30.058724</td>\n",
       "      <td>0.503809</td>\n",
       "    </tr>\n",
       "    <tr>\n",
       "      <th>200</th>\n",
       "      <td>[20, 32, 39, 123, 11, 122, 9, 14, 135, 126, 14...</td>\n",
       "      <td>female</td>\n",
       "      <td>chile</td>\n",
       "      <td>94.20</td>\n",
       "      <td>103.5</td>\n",
       "      <td>41.727834</td>\n",
       "      <td>-0.554017</td>\n",
       "    </tr>\n",
       "    <tr>\n",
       "      <th>201</th>\n",
       "      <td>[92, 91, 74, 91, 64, 70, 42, 75, 41, 45, 79, 5...</td>\n",
       "      <td>female</td>\n",
       "      <td>chile</td>\n",
       "      <td>81.46</td>\n",
       "      <td>80.5</td>\n",
       "      <td>27.581072</td>\n",
       "      <td>0.146583</td>\n",
       "    </tr>\n",
       "    <tr>\n",
       "      <th>202</th>\n",
       "      <td>[66, 5, 61, 59, 31, 55, 133, 12, 19, 37, 85, 2...</td>\n",
       "      <td>female</td>\n",
       "      <td>chile</td>\n",
       "      <td>50.25</td>\n",
       "      <td>45.0</td>\n",
       "      <td>29.822497</td>\n",
       "      <td>0.962894</td>\n",
       "    </tr>\n",
       "    <tr>\n",
       "      <th>203</th>\n",
       "      <td>[139, 105, 50, 30, 49, 108, 134, 79, 70, 54, 1...</td>\n",
       "      <td>female</td>\n",
       "      <td>chile</td>\n",
       "      <td>90.05</td>\n",
       "      <td>95.0</td>\n",
       "      <td>32.481036</td>\n",
       "      <td>-0.077707</td>\n",
       "    </tr>\n",
       "    <tr>\n",
       "      <th>204</th>\n",
       "      <td>[138, 132, 135, 114, 134, 119, 127, 140, 138, ...</td>\n",
       "      <td>female</td>\n",
       "      <td>chile</td>\n",
       "      <td>110.95</td>\n",
       "      <td>123.5</td>\n",
       "      <td>32.382304</td>\n",
       "      <td>-1.187905</td>\n",
       "    </tr>\n",
       "    <tr>\n",
       "      <th>205</th>\n",
       "      <td>[105, 86, 139, 47, 140, 133, 105, 41, 98, 77, ...</td>\n",
       "      <td>female</td>\n",
       "      <td>chile</td>\n",
       "      <td>103.55</td>\n",
       "      <td>110.0</td>\n",
       "      <td>36.350809</td>\n",
       "      <td>-0.645259</td>\n",
       "    </tr>\n",
       "    <tr>\n",
       "      <th>206</th>\n",
       "      <td>[45, 26, 26, 43, 43, 139, 29, 82, 56, 138, 139...</td>\n",
       "      <td>female</td>\n",
       "      <td>chile</td>\n",
       "      <td>90.72</td>\n",
       "      <td>131.0</td>\n",
       "      <td>51.070773</td>\n",
       "      <td>-0.390424</td>\n",
       "    </tr>\n",
       "    <tr>\n",
       "      <th>207</th>\n",
       "      <td>[72, 52, 40, 116, 132, 140, 132, 138, 140, 140...</td>\n",
       "      <td>female</td>\n",
       "      <td>chile</td>\n",
       "      <td>96.39</td>\n",
       "      <td>96.5</td>\n",
       "      <td>38.193261</td>\n",
       "      <td>-0.343593</td>\n",
       "    </tr>\n",
       "    <tr>\n",
       "      <th>208</th>\n",
       "      <td>[140, 64, 111, 90, 38, 36, 27, 44, 76, 77, 32,...</td>\n",
       "      <td>female</td>\n",
       "      <td>chile</td>\n",
       "      <td>63.92</td>\n",
       "      <td>63.0</td>\n",
       "      <td>28.785055</td>\n",
       "      <td>0.709825</td>\n",
       "    </tr>\n",
       "    <tr>\n",
       "      <th>209</th>\n",
       "      <td>[57, 50, 35, 41, 16, 89, 44, 27, 58, 58, 49, 5...</td>\n",
       "      <td>female</td>\n",
       "      <td>chile</td>\n",
       "      <td>49.11</td>\n",
       "      <td>44.0</td>\n",
       "      <td>24.148068</td>\n",
       "      <td>0.956741</td>\n",
       "    </tr>\n",
       "  </tbody>\n",
       "</table>\n",
       "</div>"
      ],
      "text/plain": [
       "                                                 tuits    sexo   variedad  \\\n",
       "198  [43, 68, 116, 61, 121, 138, 82, 87, 50, 140, 1...    male  argentina   \n",
       "199  [63, 14, 17, 39, 11, 25, 39, 55, 44, 0, 100, 3...    male  argentina   \n",
       "200  [20, 32, 39, 123, 11, 122, 9, 14, 135, 126, 14...  female      chile   \n",
       "201  [92, 91, 74, 91, 64, 70, 42, 75, 41, 45, 79, 5...  female      chile   \n",
       "202  [66, 5, 61, 59, 31, 55, 133, 12, 19, 37, 85, 2...  female      chile   \n",
       "203  [139, 105, 50, 30, 49, 108, 134, 79, 70, 54, 1...  female      chile   \n",
       "204  [138, 132, 135, 114, 134, 119, 127, 140, 138, ...  female      chile   \n",
       "205  [105, 86, 139, 47, 140, 133, 105, 41, 98, 77, ...  female      chile   \n",
       "206  [45, 26, 26, 43, 43, 139, 29, 82, 56, 138, 139...  female      chile   \n",
       "207  [72, 52, 40, 116, 132, 140, 132, 138, 140, 140...  female      chile   \n",
       "208  [140, 64, 111, 90, 38, 36, 27, 44, 76, 77, 32,...  female      chile   \n",
       "209  [57, 50, 35, 41, 16, 89, 44, 27, 58, 58, 49, 5...  female      chile   \n",
       "\n",
       "       mean  median        std  skewness  \n",
       "198   82.79    76.5  34.587700  0.285453  \n",
       "199   53.78    52.0  30.058724  0.503809  \n",
       "200   94.20   103.5  41.727834 -0.554017  \n",
       "201   81.46    80.5  27.581072  0.146583  \n",
       "202   50.25    45.0  29.822497  0.962894  \n",
       "203   90.05    95.0  32.481036 -0.077707  \n",
       "204  110.95   123.5  32.382304 -1.187905  \n",
       "205  103.55   110.0  36.350809 -0.645259  \n",
       "206   90.72   131.0  51.070773 -0.390424  \n",
       "207   96.39    96.5  38.193261 -0.343593  \n",
       "208   63.92    63.0  28.785055  0.709825  \n",
       "209   49.11    44.0  24.148068  0.956741  "
      ]
     },
     "execution_count": 63,
     "metadata": {},
     "output_type": "execute_result"
    }
   ],
   "source": [
    "x_test[198:210]"
   ]
  },
  {
   "cell_type": "code",
   "execution_count": 62,
   "metadata": {
    "collapsed": true
   },
   "outputs": [],
   "source": [
    "import statistics as stats\n",
    "from scipy import stats as sc\n",
    "\n",
    "for i in range(1400):\n",
    "    x_test.loc[i, 'mean'] = stats.mean(x_test.loc[i]['tuits'])\n",
    "    x_test.loc[i, 'median'] = stats.median(x_test.loc[i]['tuits'])\n",
    "    x_test.loc[i, 'std'] = stats.stdev(x_test.loc[i]['tuits'])\n",
    "    x_test.loc[i, 'skewness'] = sc.skew(x_test.loc[i]['tuits'])"
   ]
  },
  {
   "cell_type": "code",
   "execution_count": null,
   "metadata": {
    "collapsed": true
   },
   "outputs": [],
   "source": []
  },
  {
   "cell_type": "code",
   "execution_count": 70,
   "metadata": {},
   "outputs": [
    {
     "name": "stdout",
     "output_type": "stream",
     "text": [
      "    mean  median        std  skewness\n",
      "0  85.16    87.5  32.143843  0.106207\n",
      "1  63.47    55.5  23.780331  0.709803\n",
      "2  38.10    32.0  23.456601  1.556400\n",
      "3  60.56    56.0  29.102161  0.717457\n",
      "4  74.02    68.0  35.923876  0.385561\n",
      "     mean  median        std  skewness\n",
      "0   91.67    92.0  30.404696 -0.159314\n",
      "1   57.28    49.5  29.919785  0.853965\n",
      "2  101.94   109.0  29.256725 -0.625659\n",
      "3   86.77    85.5  35.130595 -0.031586\n",
      "4   38.52    35.0  18.853759  0.823102\n"
     ]
    }
   ],
   "source": [
    "\n",
    "X_train = x_train.loc[:,['mean','median','std','skewness']]\n",
    "X_test = x_test.loc[:,['mean','median','std','skewness']]\n",
    "\n",
    "print( X_train.head() )\n",
    "print( X_test.head() )\n",
    "\n"
   ]
  },
  {
   "cell_type": "code",
   "execution_count": null,
   "metadata": {
    "collapsed": true
   },
   "outputs": [],
   "source": []
  },
  {
   "cell_type": "markdown",
   "metadata": {},
   "source": [
    "** CLASIFICADOR GENDER**"
   ]
  },
  {
   "cell_type": "code",
   "execution_count": 71,
   "metadata": {
    "collapsed": true
   },
   "outputs": [
    {
     "ename": "ValueError",
     "evalue": "Input X must be non-negative",
     "output_type": "error",
     "traceback": [
      "\u001b[0;31m---------------------------------------------------------------------------\u001b[0m",
      "\u001b[0;31mValueError\u001b[0m                                Traceback (most recent call last)",
      "\u001b[0;32m<ipython-input-71-fa65550a2fda>\u001b[0m in \u001b[0;36m<module>\u001b[0;34m()\u001b[0m\n\u001b[1;32m      1\u001b[0m \u001b[0;32mfrom\u001b[0m \u001b[0msklearn\u001b[0m\u001b[0;34m.\u001b[0m\u001b[0mnaive_bayes\u001b[0m \u001b[0;32mimport\u001b[0m \u001b[0mMultinomialNB\u001b[0m\u001b[0;34m\u001b[0m\u001b[0m\n\u001b[1;32m      2\u001b[0m \u001b[0;34m\u001b[0m\u001b[0m\n\u001b[0;32m----> 3\u001b[0;31m \u001b[0mclf_gender_NB\u001b[0m \u001b[0;34m=\u001b[0m \u001b[0mMultinomialNB\u001b[0m\u001b[0;34m(\u001b[0m\u001b[0;34m)\u001b[0m\u001b[0;34m.\u001b[0m\u001b[0mfit\u001b[0m\u001b[0;34m(\u001b[0m\u001b[0mX_train\u001b[0m\u001b[0;34m,\u001b[0m \u001b[0mx_train\u001b[0m\u001b[0;34m[\u001b[0m\u001b[0;34m'sexo'\u001b[0m\u001b[0;34m]\u001b[0m\u001b[0;34m)\u001b[0m\u001b[0;34m\u001b[0m\u001b[0m\n\u001b[0m\u001b[1;32m      4\u001b[0m \u001b[0;34m\u001b[0m\u001b[0m\n",
      "\u001b[0;32m/Users/bigdata/anaconda/lib/python3.6/site-packages/sklearn/naive_bayes.py\u001b[0m in \u001b[0;36mfit\u001b[0;34m(self, X, y, sample_weight)\u001b[0m\n\u001b[1;32m    585\u001b[0m         self.feature_count_ = np.zeros((n_effective_classes, n_features),\n\u001b[1;32m    586\u001b[0m                                        dtype=np.float64)\n\u001b[0;32m--> 587\u001b[0;31m         \u001b[0mself\u001b[0m\u001b[0;34m.\u001b[0m\u001b[0m_count\u001b[0m\u001b[0;34m(\u001b[0m\u001b[0mX\u001b[0m\u001b[0;34m,\u001b[0m \u001b[0mY\u001b[0m\u001b[0;34m)\u001b[0m\u001b[0;34m\u001b[0m\u001b[0m\n\u001b[0m\u001b[1;32m    588\u001b[0m         \u001b[0mself\u001b[0m\u001b[0;34m.\u001b[0m\u001b[0m_update_feature_log_prob\u001b[0m\u001b[0;34m(\u001b[0m\u001b[0;34m)\u001b[0m\u001b[0;34m\u001b[0m\u001b[0m\n\u001b[1;32m    589\u001b[0m         \u001b[0mself\u001b[0m\u001b[0;34m.\u001b[0m\u001b[0m_update_class_log_prior\u001b[0m\u001b[0;34m(\u001b[0m\u001b[0mclass_prior\u001b[0m\u001b[0;34m=\u001b[0m\u001b[0mclass_prior\u001b[0m\u001b[0;34m)\u001b[0m\u001b[0;34m\u001b[0m\u001b[0m\n",
      "\u001b[0;32m/Users/bigdata/anaconda/lib/python3.6/site-packages/sklearn/naive_bayes.py\u001b[0m in \u001b[0;36m_count\u001b[0;34m(self, X, Y)\u001b[0m\n\u001b[1;32m    688\u001b[0m         \u001b[0;34m\"\"\"Count and smooth feature occurrences.\"\"\"\u001b[0m\u001b[0;34m\u001b[0m\u001b[0m\n\u001b[1;32m    689\u001b[0m         \u001b[0;32mif\u001b[0m \u001b[0mnp\u001b[0m\u001b[0;34m.\u001b[0m\u001b[0many\u001b[0m\u001b[0;34m(\u001b[0m\u001b[0;34m(\u001b[0m\u001b[0mX\u001b[0m\u001b[0;34m.\u001b[0m\u001b[0mdata\u001b[0m \u001b[0;32mif\u001b[0m \u001b[0missparse\u001b[0m\u001b[0;34m(\u001b[0m\u001b[0mX\u001b[0m\u001b[0;34m)\u001b[0m \u001b[0;32melse\u001b[0m \u001b[0mX\u001b[0m\u001b[0;34m)\u001b[0m \u001b[0;34m<\u001b[0m \u001b[0;36m0\u001b[0m\u001b[0;34m)\u001b[0m\u001b[0;34m:\u001b[0m\u001b[0;34m\u001b[0m\u001b[0m\n\u001b[0;32m--> 690\u001b[0;31m             \u001b[0;32mraise\u001b[0m \u001b[0mValueError\u001b[0m\u001b[0;34m(\u001b[0m\u001b[0;34m\"Input X must be non-negative\"\u001b[0m\u001b[0;34m)\u001b[0m\u001b[0;34m\u001b[0m\u001b[0m\n\u001b[0m\u001b[1;32m    691\u001b[0m         \u001b[0mself\u001b[0m\u001b[0;34m.\u001b[0m\u001b[0mfeature_count_\u001b[0m \u001b[0;34m+=\u001b[0m \u001b[0msafe_sparse_dot\u001b[0m\u001b[0;34m(\u001b[0m\u001b[0mY\u001b[0m\u001b[0;34m.\u001b[0m\u001b[0mT\u001b[0m\u001b[0;34m,\u001b[0m \u001b[0mX\u001b[0m\u001b[0;34m)\u001b[0m\u001b[0;34m\u001b[0m\u001b[0m\n\u001b[1;32m    692\u001b[0m         \u001b[0mself\u001b[0m\u001b[0;34m.\u001b[0m\u001b[0mclass_count_\u001b[0m \u001b[0;34m+=\u001b[0m \u001b[0mY\u001b[0m\u001b[0;34m.\u001b[0m\u001b[0msum\u001b[0m\u001b[0;34m(\u001b[0m\u001b[0maxis\u001b[0m\u001b[0;34m=\u001b[0m\u001b[0;36m0\u001b[0m\u001b[0;34m)\u001b[0m\u001b[0;34m\u001b[0m\u001b[0m\n",
      "\u001b[0;31mValueError\u001b[0m: Input X must be non-negative"
     ]
    }
   ],
   "source": [
    "from sklearn.naive_bayes import MultinomialNB\n",
    "\n",
    "clf_gender_NB = MultinomialNB().fit(X_train, x_train['sexo'])\n",
    "\n",
    "# ERROR: must be non-negative"
   ]
  },
  {
   "cell_type": "code",
   "execution_count": 72,
   "metadata": {
    "collapsed": true
   },
   "outputs": [],
   "source": [
    "from sklearn.ensemble import RandomForestClassifier\n",
    "\n",
    "clf_gender_RF = RandomForestClassifier(500).fit(X_train, x_train['sexo'])\n"
   ]
  },
  {
   "cell_type": "code",
   "execution_count": null,
   "metadata": {
    "collapsed": true
   },
   "outputs": [],
   "source": []
  },
  {
   "cell_type": "markdown",
   "metadata": {},
   "source": [
    "** PREDICCIÓN GENDER**"
   ]
  },
  {
   "cell_type": "code",
   "execution_count": 73,
   "metadata": {
    "collapsed": true
   },
   "outputs": [],
   "source": [
    "\n",
    "predicted_gender_RF = clf_gender_RF.predict(X_test)\n",
    "\n",
    "\n"
   ]
  },
  {
   "cell_type": "code",
   "execution_count": 74,
   "metadata": {},
   "outputs": [
    {
     "data": {
      "text/plain": [
       "array(['male', 'male', 'female', 'male', 'female', 'male', 'female',\n",
       "       'male', 'female', 'female'], dtype=object)"
      ]
     },
     "execution_count": 74,
     "metadata": {},
     "output_type": "execute_result"
    }
   ],
   "source": [
    "predicted_gender_RF[0:10]"
   ]
  },
  {
   "cell_type": "markdown",
   "metadata": {},
   "source": [
    "** MÉTRICAS GENDER **"
   ]
  },
  {
   "cell_type": "code",
   "execution_count": 76,
   "metadata": {},
   "outputs": [
    {
     "data": {
      "text/plain": [
       "[('female', 59), ('male', 41)]"
      ]
     },
     "execution_count": 76,
     "metadata": {},
     "output_type": "execute_result"
    }
   ],
   "source": [
    "from collections import Counter\n",
    "\n",
    "c = Counter(predicted_gender_RF[0:100])\n",
    "\n",
    "c.most_common()"
   ]
  },
  {
   "cell_type": "code",
   "execution_count": 77,
   "metadata": {},
   "outputs": [
    {
     "name": "stdout",
     "output_type": "stream",
     "text": [
      "             precision    recall  f1-score   support\n",
      "\n",
      "     female       0.54      0.54      0.54       700\n",
      "       male       0.54      0.54      0.54       700\n",
      "\n",
      "avg / total       0.54      0.54      0.54      1400\n",
      "\n"
     ]
    }
   ],
   "source": [
    "from sklearn import metrics\n",
    "\n",
    "print(metrics.classification_report(x_test.sexo, predicted_gender_RF))"
   ]
  },
  {
   "cell_type": "code",
   "execution_count": null,
   "metadata": {
    "collapsed": true
   },
   "outputs": [],
   "source": []
  },
  {
   "cell_type": "markdown",
   "metadata": {
    "collapsed": true
   },
   "source": [
    "** CLASIFICADOR Y PREDICTOR VARIETY **"
   ]
  },
  {
   "cell_type": "code",
   "execution_count": 166,
   "metadata": {
    "collapsed": true
   },
   "outputs": [],
   "source": [
    "from sklearn.naive_bayes import MultinomialNB\n",
    "\n",
    "clf_variety = MultinomialNB().fit(X_train_tf, x_train['variedad'])\n",
    "predicted_variety = clf_variety.predict(X_test_tf)"
   ]
  },
  {
   "cell_type": "code",
   "execution_count": 78,
   "metadata": {
    "collapsed": true
   },
   "outputs": [],
   "source": [
    "from sklearn.ensemble import RandomForestClassifier\n",
    "\n",
    "clf_RF = RandomForestClassifier(500).fit(X_train, x_train['variedad'])\n",
    "predicted_variety_RF = clf_RF.predict(X_test)\n"
   ]
  },
  {
   "cell_type": "code",
   "execution_count": null,
   "metadata": {
    "collapsed": true
   },
   "outputs": [],
   "source": []
  },
  {
   "cell_type": "code",
   "execution_count": null,
   "metadata": {
    "collapsed": true
   },
   "outputs": [],
   "source": []
  },
  {
   "cell_type": "markdown",
   "metadata": {
    "collapsed": true
   },
   "source": [
    "** MÉTRICAS VARIETY **"
   ]
  },
  {
   "cell_type": "code",
   "execution_count": 79,
   "metadata": {},
   "outputs": [
    {
     "data": {
      "text/plain": [
       "[('mexico', 38),\n",
       " ('chile', 37),\n",
       " ('argentina', 33),\n",
       " ('venezuela', 29),\n",
       " ('peru', 25),\n",
       " ('spain', 22),\n",
       " ('colombia', 16)]"
      ]
     },
     "execution_count": 79,
     "metadata": {},
     "output_type": "execute_result"
    }
   ],
   "source": [
    "from collections import Counter\n",
    "\n",
    "c = Counter(predicted_variety_RF[600:800])\n",
    "\n",
    "c.most_common()"
   ]
  },
  {
   "cell_type": "code",
   "execution_count": 80,
   "metadata": {},
   "outputs": [
    {
     "name": "stdout",
     "output_type": "stream",
     "text": [
      "             precision    recall  f1-score   support\n",
      "\n",
      "  argentina       0.21      0.25      0.23       200\n",
      "      chile       0.18      0.20      0.18       200\n",
      "   colombia       0.17      0.14      0.15       200\n",
      "     mexico       0.21      0.19      0.20       200\n",
      "       peru       0.14      0.12      0.13       200\n",
      "      spain       0.18      0.17      0.18       200\n",
      "  venezuela       0.25      0.29      0.27       200\n",
      "\n",
      "avg / total       0.19      0.20      0.19      1400\n",
      "\n"
     ]
    }
   ],
   "source": [
    "from sklearn import metrics\n",
    "\n",
    "print(metrics.classification_report(x_test.variedad, predicted_variety_RF))"
   ]
  },
  {
   "cell_type": "code",
   "execution_count": null,
   "metadata": {
    "collapsed": true
   },
   "outputs": [],
   "source": []
  },
  {
   "cell_type": "code",
   "execution_count": null,
   "metadata": {
    "collapsed": true
   },
   "outputs": [],
   "source": []
  },
  {
   "cell_type": "code",
   "execution_count": null,
   "metadata": {
    "collapsed": true
   },
   "outputs": [],
   "source": []
  },
  {
   "cell_type": "code",
   "execution_count": null,
   "metadata": {
    "collapsed": true
   },
   "outputs": [],
   "source": []
  },
  {
   "cell_type": "code",
   "execution_count": null,
   "metadata": {
    "collapsed": true
   },
   "outputs": [],
   "source": []
  },
  {
   "cell_type": "markdown",
   "metadata": {},
   "source": [
    "jupyter notebook --NotebookApp.iopub_data_rate_limit=10000000000\n"
   ]
  },
  {
   "cell_type": "code",
   "execution_count": null,
   "metadata": {
    "collapsed": true
   },
   "outputs": [],
   "source": []
  },
  {
   "cell_type": "code",
   "execution_count": null,
   "metadata": {
    "collapsed": true
   },
   "outputs": [],
   "source": []
  },
  {
   "cell_type": "code",
   "execution_count": null,
   "metadata": {
    "collapsed": true
   },
   "outputs": [],
   "source": []
  },
  {
   "cell_type": "code",
   "execution_count": null,
   "metadata": {
    "collapsed": true
   },
   "outputs": [],
   "source": []
  },
  {
   "cell_type": "code",
   "execution_count": null,
   "metadata": {
    "collapsed": true
   },
   "outputs": [],
   "source": []
  },
  {
   "cell_type": "code",
   "execution_count": 250,
   "metadata": {},
   "outputs": [
    {
     "name": "stdout",
     "output_type": "stream",
     "text": [
      "5\n",
      "11.718930554164631\n",
      "0.6155602359275459\n"
     ]
    }
   ],
   "source": [
    "import statistics as stats\n",
    "import scipy\n",
    "\n",
    "prueba=pd.DataFrame(columns=[1,2,3])\n",
    "\n",
    "prueba.loc[0] = [34,52,1]\n",
    "prueba.loc[1] = [21,31,0]\n",
    "prueba\n",
    "prueba.loc[2] = [23,21,[23,1,5]]\n",
    "\n",
    "print(stats.median(prueba.loc[2][3]))\n",
    "print(stats.stdev(prueba.loc[2][3]))\n",
    "print(scipy.stats.skew(prueba.loc[2][3]))\n",
    "\n",
    "\n"
   ]
  },
  {
   "cell_type": "code",
   "execution_count": null,
   "metadata": {
    "collapsed": true
   },
   "outputs": [],
   "source": []
  },
  {
   "cell_type": "code",
   "execution_count": null,
   "metadata": {
    "collapsed": true
   },
   "outputs": [],
   "source": []
  },
  {
   "cell_type": "code",
   "execution_count": null,
   "metadata": {
    "collapsed": true
   },
   "outputs": [],
   "source": []
  },
  {
   "cell_type": "code",
   "execution_count": null,
   "metadata": {
    "collapsed": true
   },
   "outputs": [],
   "source": []
  },
  {
   "cell_type": "code",
   "execution_count": null,
   "metadata": {
    "collapsed": true
   },
   "outputs": [],
   "source": []
  },
  {
   "cell_type": "code",
   "execution_count": null,
   "metadata": {
    "collapsed": true
   },
   "outputs": [],
   "source": []
  },
  {
   "cell_type": "code",
   "execution_count": null,
   "metadata": {
    "collapsed": true
   },
   "outputs": [],
   "source": []
  }
 ],
 "metadata": {
  "kernelspec": {
   "display_name": "Python 3",
   "language": "python",
   "name": "python3"
  },
  "language_info": {
   "codemirror_mode": {
    "name": "ipython",
    "version": 3
   },
   "file_extension": ".py",
   "mimetype": "text/x-python",
   "name": "python",
   "nbconvert_exporter": "python",
   "pygments_lexer": "ipython3",
   "version": "3.6.2"
  }
 },
 "nbformat": 4,
 "nbformat_minor": 2
}
